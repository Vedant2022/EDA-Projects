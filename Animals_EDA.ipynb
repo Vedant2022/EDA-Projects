{
 "cells": [
  {
   "cell_type": "markdown",
   "metadata": {},
   "source": [
    "## Exploratory Data Analysis on Animals Data\n",
    "#### Vedant Thakur"
   ]
  },
  {
   "cell_type": "code",
   "execution_count": 1,
   "metadata": {},
   "outputs": [],
   "source": [
    "import numpy as np\n",
    "import pandas as pd\n",
    "import matplotlib.pyplot as plt\n",
    "import seaborn as sns"
   ]
  },
  {
   "cell_type": "code",
   "execution_count": 2,
   "metadata": {},
   "outputs": [],
   "source": [
    "data = pd.read_csv('animals.csv')"
   ]
  },
  {
   "cell_type": "code",
   "execution_count": 3,
   "metadata": {},
   "outputs": [
    {
     "data": {
      "text/html": [
       "<div>\n",
       "<style scoped>\n",
       "    .dataframe tbody tr th:only-of-type {\n",
       "        vertical-align: middle;\n",
       "    }\n",
       "\n",
       "    .dataframe tbody tr th {\n",
       "        vertical-align: top;\n",
       "    }\n",
       "\n",
       "    .dataframe thead th {\n",
       "        text-align: right;\n",
       "    }\n",
       "</style>\n",
       "<table border=\"1\" class=\"dataframe\">\n",
       "  <thead>\n",
       "    <tr style=\"text-align: right;\">\n",
       "      <th></th>\n",
       "      <th>Animal</th>\n",
       "      <th>Height (cm)</th>\n",
       "      <th>Weight (kg)</th>\n",
       "      <th>Color</th>\n",
       "      <th>Lifespan (years)</th>\n",
       "      <th>Diet</th>\n",
       "      <th>Habitat</th>\n",
       "      <th>Predators</th>\n",
       "      <th>Average Speed (km/h)</th>\n",
       "      <th>Countries Found</th>\n",
       "      <th>Conservation Status</th>\n",
       "      <th>Family</th>\n",
       "      <th>Gestation Period (days)</th>\n",
       "      <th>Top Speed (km/h)</th>\n",
       "      <th>Social Structure</th>\n",
       "      <th>Offspring per Birth</th>\n",
       "    </tr>\n",
       "  </thead>\n",
       "  <tbody>\n",
       "    <tr>\n",
       "      <th>0</th>\n",
       "      <td>Aardvark</td>\n",
       "      <td>105-130</td>\n",
       "      <td>40-65</td>\n",
       "      <td>Grey</td>\n",
       "      <td>20-30</td>\n",
       "      <td>Insectivore</td>\n",
       "      <td>Savannas, Grasslands</td>\n",
       "      <td>Lions, Hyenas</td>\n",
       "      <td>40</td>\n",
       "      <td>Africa</td>\n",
       "      <td>Least Concern</td>\n",
       "      <td>Orycteropodidae</td>\n",
       "      <td>210-240</td>\n",
       "      <td>40</td>\n",
       "      <td>Solitary</td>\n",
       "      <td>1</td>\n",
       "    </tr>\n",
       "    <tr>\n",
       "      <th>1</th>\n",
       "      <td>Aardwolf</td>\n",
       "      <td>40-50</td>\n",
       "      <td>8-14</td>\n",
       "      <td>Yellow-brown</td>\n",
       "      <td>10-12</td>\n",
       "      <td>Insectivore</td>\n",
       "      <td>Grasslands, Savannas</td>\n",
       "      <td>Lions, Leopards</td>\n",
       "      <td>24-30</td>\n",
       "      <td>Eastern and Southern Africa</td>\n",
       "      <td>Least Concern</td>\n",
       "      <td>Hyaenidae</td>\n",
       "      <td>90</td>\n",
       "      <td>40</td>\n",
       "      <td>Solitary</td>\n",
       "      <td>2-5</td>\n",
       "    </tr>\n",
       "    <tr>\n",
       "      <th>2</th>\n",
       "      <td>African Elephant</td>\n",
       "      <td>270-310</td>\n",
       "      <td>2700-6000</td>\n",
       "      <td>Grey</td>\n",
       "      <td>60-70</td>\n",
       "      <td>Herbivore</td>\n",
       "      <td>Savannah, Forest</td>\n",
       "      <td>Lions, Hyenas</td>\n",
       "      <td>25</td>\n",
       "      <td>Africa</td>\n",
       "      <td>Vulnerable</td>\n",
       "      <td>Elephantidae</td>\n",
       "      <td>640-660</td>\n",
       "      <td>40</td>\n",
       "      <td>Herd-based</td>\n",
       "      <td>1</td>\n",
       "    </tr>\n",
       "    <tr>\n",
       "      <th>3</th>\n",
       "      <td>African Lion</td>\n",
       "      <td>80-110</td>\n",
       "      <td>120-250</td>\n",
       "      <td>Tan</td>\n",
       "      <td>10-14</td>\n",
       "      <td>Carnivore</td>\n",
       "      <td>Grasslands, Savannas</td>\n",
       "      <td>Hyenas, Crocodiles</td>\n",
       "      <td>58</td>\n",
       "      <td>Africa</td>\n",
       "      <td>Vulnerable</td>\n",
       "      <td>Felidae</td>\n",
       "      <td>98-105</td>\n",
       "      <td>80</td>\n",
       "      <td>Group-based</td>\n",
       "      <td>2-4 (usually)</td>\n",
       "    </tr>\n",
       "    <tr>\n",
       "      <th>4</th>\n",
       "      <td>African Wild Dog</td>\n",
       "      <td>75-80</td>\n",
       "      <td>18-36</td>\n",
       "      <td>Multicolored</td>\n",
       "      <td>10-12</td>\n",
       "      <td>Carnivore</td>\n",
       "      <td>Savannahs</td>\n",
       "      <td>Lions, Hyenas</td>\n",
       "      <td>56</td>\n",
       "      <td>Sub-Saharan Africa</td>\n",
       "      <td>Endangered</td>\n",
       "      <td>Canidae</td>\n",
       "      <td>70</td>\n",
       "      <td>56</td>\n",
       "      <td>Group-based</td>\n",
       "      <td>10-12</td>\n",
       "    </tr>\n",
       "  </tbody>\n",
       "</table>\n",
       "</div>"
      ],
      "text/plain": [
       "             Animal Height (cm) Weight (kg)         Color Lifespan (years)  \\\n",
       "0          Aardvark     105-130       40-65          Grey            20-30   \n",
       "1          Aardwolf       40-50        8-14  Yellow-brown            10-12   \n",
       "2  African Elephant     270-310   2700-6000          Grey            60-70   \n",
       "3      African Lion      80-110     120-250           Tan            10-14   \n",
       "4  African Wild Dog       75-80       18-36  Multicolored            10-12   \n",
       "\n",
       "          Diet               Habitat           Predators Average Speed (km/h)  \\\n",
       "0  Insectivore  Savannas, Grasslands       Lions, Hyenas                   40   \n",
       "1  Insectivore  Grasslands, Savannas     Lions, Leopards                24-30   \n",
       "2    Herbivore      Savannah, Forest       Lions, Hyenas                   25   \n",
       "3    Carnivore  Grasslands, Savannas  Hyenas, Crocodiles                   58   \n",
       "4    Carnivore             Savannahs       Lions, Hyenas                   56   \n",
       "\n",
       "               Countries Found Conservation Status           Family  \\\n",
       "0                       Africa       Least Concern  Orycteropodidae   \n",
       "1  Eastern and Southern Africa       Least Concern        Hyaenidae   \n",
       "2                       Africa          Vulnerable     Elephantidae   \n",
       "3                       Africa          Vulnerable          Felidae   \n",
       "4           Sub-Saharan Africa          Endangered          Canidae   \n",
       "\n",
       "  Gestation Period (days) Top Speed (km/h) Social Structure  \\\n",
       "0                 210-240               40         Solitary   \n",
       "1                      90               40         Solitary   \n",
       "2                 640-660               40       Herd-based   \n",
       "3                  98-105               80      Group-based   \n",
       "4                      70               56      Group-based   \n",
       "\n",
       "  Offspring per Birth  \n",
       "0                   1  \n",
       "1                 2-5  \n",
       "2                   1  \n",
       "3       2-4 (usually)  \n",
       "4               10-12  "
      ]
     },
     "execution_count": 3,
     "metadata": {},
     "output_type": "execute_result"
    }
   ],
   "source": [
    "data.head(5)"
   ]
  },
  {
   "cell_type": "code",
   "execution_count": 4,
   "metadata": {},
   "outputs": [
    {
     "name": "stdout",
     "output_type": "stream",
     "text": [
      "<class 'pandas.core.frame.DataFrame'>\n",
      "RangeIndex: 205 entries, 0 to 204\n",
      "Data columns (total 16 columns):\n",
      " #   Column                   Non-Null Count  Dtype \n",
      "---  ------                   --------------  ----- \n",
      " 0   Animal                   205 non-null    object\n",
      " 1   Height (cm)              205 non-null    object\n",
      " 2   Weight (kg)              205 non-null    object\n",
      " 3   Color                    205 non-null    object\n",
      " 4   Lifespan (years)         205 non-null    object\n",
      " 5   Diet                     205 non-null    object\n",
      " 6   Habitat                  205 non-null    object\n",
      " 7   Predators                205 non-null    object\n",
      " 8   Average Speed (km/h)     205 non-null    object\n",
      " 9   Countries Found          205 non-null    object\n",
      " 10  Conservation Status      205 non-null    object\n",
      " 11  Family                   205 non-null    object\n",
      " 12  Gestation Period (days)  205 non-null    object\n",
      " 13  Top Speed (km/h)         205 non-null    object\n",
      " 14  Social Structure         205 non-null    object\n",
      " 15  Offspring per Birth      205 non-null    object\n",
      "dtypes: object(16)\n",
      "memory usage: 25.8+ KB\n"
     ]
    }
   ],
   "source": [
    "data.info()"
   ]
  },
  {
   "cell_type": "code",
   "execution_count": 7,
   "metadata": {},
   "outputs": [
    {
     "name": "stdout",
     "output_type": "stream",
     "text": [
      "No of rows: 205 \n",
      "No of columns: 16\n"
     ]
    }
   ],
   "source": [
    "print(\"No of rows:\",data.shape[0],\"\\nNo of columns:\" ,data.shape[1])"
   ]
  },
  {
   "cell_type": "code",
   "execution_count": 9,
   "metadata": {},
   "outputs": [
    {
     "name": "stdout",
     "output_type": "stream",
     "text": [
      "Index(['Animal', 'Height (cm)', 'Weight (kg)', 'Color', 'Lifespan (years)',\n",
      "       'Diet', 'Habitat', 'Predators', 'Average Speed (km/h)',\n",
      "       'Countries Found', 'Conservation Status', 'Family',\n",
      "       'Gestation Period (days)', 'Top Speed (km/h)', 'Social Structure',\n",
      "       'Offspring per Birth'],\n",
      "      dtype='object')\n"
     ]
    }
   ],
   "source": [
    "print(data.columns)"
   ]
  },
  {
   "cell_type": "code",
   "execution_count": 12,
   "metadata": {},
   "outputs": [],
   "source": [
    "columns_with_range = ['Height (cm)','Weight (kg)','Lifespan (years)','Offspring per Birth']\n",
    "for x in columns_with_range:\n",
    "    regex = 'Up.x'\n",
    "    data[x][data[x].str.match(regex)] = data[x][data[x].str.match(regex)].str.split(' ')"
   ]
  },
  {
   "cell_type": "code",
   "execution_count": 15,
   "metadata": {},
   "outputs": [],
   "source": [
    "for x in ['Height (cm)','Weight (kg)','Lifespan (years)','Average Speed (km/h)','Gestation Period (days)',\n",
    "          'Offspring per Birth','Top Speed (km/h)']:\n",
    "    ab = data[x][data[x].str.contains('-')]\n",
    "    data[x][data[x].str.contains('-')]=ab.str.split('-').str.get(-1)"
   ]
  },
  {
   "cell_type": "code",
   "execution_count": null,
   "metadata": {},
   "outputs": [],
   "source": []
  }
 ],
 "metadata": {
  "kernelspec": {
   "display_name": "Python 3",
   "language": "python",
   "name": "python3"
  },
  "language_info": {
   "codemirror_mode": {
    "name": "ipython",
    "version": 3
   },
   "file_extension": ".py",
   "mimetype": "text/x-python",
   "name": "python",
   "nbconvert_exporter": "python",
   "pygments_lexer": "ipython3",
   "version": "3.12.4"
  }
 },
 "nbformat": 4,
 "nbformat_minor": 2
}

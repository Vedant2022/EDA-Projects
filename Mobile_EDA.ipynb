{
 "cells": [
  {
   "cell_type": "markdown",
   "id": "91e8eee2",
   "metadata": {},
   "source": [
    "# Exploratory Data Analysis on Uncleaned Mobile Dataset\n",
    "#### By Vedant Thakur"
   ]
  },
  {
   "cell_type": "code",
   "execution_count": 14,
   "id": "3546769c",
   "metadata": {},
   "outputs": [],
   "source": [
    "import numpy as np\n",
    "import pandas as pd\n",
    "import matplotlib.pyplot as plt\n",
    "import seaborn as sns\n",
    "import re\n",
    "import os"
   ]
  },
  {
   "cell_type": "code",
   "execution_count": 15,
   "id": "3502ddf7",
   "metadata": {},
   "outputs": [],
   "source": [
    "df = pd.read_csv('mobiles.csv')"
   ]
  },
  {
   "cell_type": "code",
   "execution_count": 16,
   "id": "ee9243b3",
   "metadata": {},
   "outputs": [
    {
     "data": {
      "text/html": [
       "<div>\n",
       "<style scoped>\n",
       "    .dataframe tbody tr th:only-of-type {\n",
       "        vertical-align: middle;\n",
       "    }\n",
       "\n",
       "    .dataframe tbody tr th {\n",
       "        vertical-align: top;\n",
       "    }\n",
       "\n",
       "    .dataframe thead th {\n",
       "        text-align: right;\n",
       "    }\n",
       "</style>\n",
       "<table border=\"1\" class=\"dataframe\">\n",
       "  <thead>\n",
       "    <tr style=\"text-align: right;\">\n",
       "      <th></th>\n",
       "      <th>mobile_name</th>\n",
       "      <th>price</th>\n",
       "      <th>rating</th>\n",
       "      <th>specs_score</th>\n",
       "      <th>connectivity</th>\n",
       "      <th>processor</th>\n",
       "      <th>storage</th>\n",
       "      <th>battery</th>\n",
       "      <th>display</th>\n",
       "      <th>camera</th>\n",
       "      <th>extra_storage</th>\n",
       "      <th>os</th>\n",
       "    </tr>\n",
       "  </thead>\n",
       "  <tbody>\n",
       "    <tr>\n",
       "      <th>0</th>\n",
       "      <td>OPPO Reno 11</td>\n",
       "      <td>₹29,990</td>\n",
       "      <td>4.70</td>\n",
       "      <td>86.0</td>\n",
       "      <td>Dual Sim, 3G, 4G, 5G, VoLTE, Wi-Fi, NFC, IR Bl...</td>\n",
       "      <td>Dimensity 8200, Octa Core, 3.1 GHz Processor</td>\n",
       "      <td>8 GB RAM, 256 GB inbuilt</td>\n",
       "      <td>4800 mAh Battery with 67W Fast Charging</td>\n",
       "      <td>6.7 inches, 1080 x 2412 px, 120 Hz Display wit...</td>\n",
       "      <td>50 MP + 32 MP + 8 MP Triple Rear &amp; 32 MP Front...</td>\n",
       "      <td>Android v14</td>\n",
       "      <td>No FM Radio</td>\n",
       "    </tr>\n",
       "    <tr>\n",
       "      <th>1</th>\n",
       "      <td>Poco X6 Pro 5G</td>\n",
       "      <td>₹19,999</td>\n",
       "      <td>4.50</td>\n",
       "      <td>84.0</td>\n",
       "      <td>Dual Sim, 3G, 4G, 5G, VoLTE, Wi-Fi, NFC, IR Bl...</td>\n",
       "      <td>Dimensity 8300 Ultra, Octa Core, 3.35 GHz Proc...</td>\n",
       "      <td>12 GB RAM, 256 GB inbuilt</td>\n",
       "      <td>5500 mAh Battery with 90W Fast Charging</td>\n",
       "      <td>6.67 inches, 1220 x 2712 px, 120 Hz Display wi...</td>\n",
       "      <td>64 MP + 8 MP + 2 MP Triple Rear &amp; 16 MP Front ...</td>\n",
       "      <td>Android v14</td>\n",
       "      <td>No FM Radio</td>\n",
       "    </tr>\n",
       "    <tr>\n",
       "      <th>2</th>\n",
       "      <td>Xiaomi Redmi Note 13 Pro Plus</td>\n",
       "      <td>₹31,999</td>\n",
       "      <td>4.35</td>\n",
       "      <td>87.0</td>\n",
       "      <td>Dual Sim, 3G, 4G, 5G, VoLTE, Wi-Fi, NFC, IR Bl...</td>\n",
       "      <td>Dimensity 7200 Ultra, Octa Core, 2.8 GHz Proce...</td>\n",
       "      <td>8 GB RAM, 256 GB inbuilt</td>\n",
       "      <td>5000 mAh Battery with 120W Fast Charging</td>\n",
       "      <td>6.67 inches, 1220 x 2712 px, 120 Hz Display wi...</td>\n",
       "      <td>200 MP + 8 MP + 2 MP Triple Rear &amp; 16 MP Front...</td>\n",
       "      <td>Memory Card Not Supported</td>\n",
       "      <td>Android v13</td>\n",
       "    </tr>\n",
       "    <tr>\n",
       "      <th>3</th>\n",
       "      <td>OPPO Reno 11 Pro</td>\n",
       "      <td>₹40,990</td>\n",
       "      <td>4.75</td>\n",
       "      <td>88.0</td>\n",
       "      <td>Dual Sim, 3G, 4G, 5G, VoLTE, Wi-Fi, NFC, IR Bl...</td>\n",
       "      <td>Dimensity 8200, Octa Core, 3.1 GHz Processor</td>\n",
       "      <td>12 GB RAM, 256 GB inbuilt</td>\n",
       "      <td>4600 mAh Battery with 80W Fast Charging</td>\n",
       "      <td>6.74 inches, 1240 x 2772 px, 120 Hz Display wi...</td>\n",
       "      <td>50 MP + 32 MP + 8 MP Triple Rear &amp; 32 MP Front...</td>\n",
       "      <td>Android v14</td>\n",
       "      <td>No FM Radio</td>\n",
       "    </tr>\n",
       "    <tr>\n",
       "      <th>4</th>\n",
       "      <td>Xiaomi Redmi Note 13 Pro Max 5G</td>\n",
       "      <td>₹33,999</td>\n",
       "      <td>4.00</td>\n",
       "      <td>87.0</td>\n",
       "      <td>Dual Sim, 3G, 4G, 5G, VoLTE, Wi-Fi, NFC, IR Bl...</td>\n",
       "      <td>Snapdragon 7 Gen1, Octa Core, 2.4 GHz Processor</td>\n",
       "      <td>12 GB RAM, 256 GB inbuilt</td>\n",
       "      <td>5200 mAh Battery with 120W Fast Charging</td>\n",
       "      <td>6.67 inches, 1220 x 2712 px, 144 Hz Display wi...</td>\n",
       "      <td>200 MP + 13 MP + 8 MP Triple Rear &amp; 32 MP Fron...</td>\n",
       "      <td>Memory Card Not Supported</td>\n",
       "      <td>Android v13</td>\n",
       "    </tr>\n",
       "  </tbody>\n",
       "</table>\n",
       "</div>"
      ],
      "text/plain": [
       "                       mobile_name    price  rating  specs_score  \\\n",
       "0                     OPPO Reno 11  ₹29,990    4.70         86.0   \n",
       "1                   Poco X6 Pro 5G  ₹19,999    4.50         84.0   \n",
       "2    Xiaomi Redmi Note 13 Pro Plus  ₹31,999    4.35         87.0   \n",
       "3                 OPPO Reno 11 Pro  ₹40,990    4.75         88.0   \n",
       "4  Xiaomi Redmi Note 13 Pro Max 5G  ₹33,999    4.00         87.0   \n",
       "\n",
       "                                        connectivity  \\\n",
       "0  Dual Sim, 3G, 4G, 5G, VoLTE, Wi-Fi, NFC, IR Bl...   \n",
       "1  Dual Sim, 3G, 4G, 5G, VoLTE, Wi-Fi, NFC, IR Bl...   \n",
       "2  Dual Sim, 3G, 4G, 5G, VoLTE, Wi-Fi, NFC, IR Bl...   \n",
       "3  Dual Sim, 3G, 4G, 5G, VoLTE, Wi-Fi, NFC, IR Bl...   \n",
       "4  Dual Sim, 3G, 4G, 5G, VoLTE, Wi-Fi, NFC, IR Bl...   \n",
       "\n",
       "                                           processor  \\\n",
       "0       Dimensity 8200, Octa Core, 3.1 GHz Processor   \n",
       "1  Dimensity 8300 Ultra, Octa Core, 3.35 GHz Proc...   \n",
       "2  Dimensity 7200 Ultra, Octa Core, 2.8 GHz Proce...   \n",
       "3       Dimensity 8200, Octa Core, 3.1 GHz Processor   \n",
       "4    Snapdragon 7 Gen1, Octa Core, 2.4 GHz Processor   \n",
       "\n",
       "                     storage                                   battery  \\\n",
       "0   8 GB RAM, 256 GB inbuilt   4800 mAh Battery with 67W Fast Charging   \n",
       "1  12 GB RAM, 256 GB inbuilt   5500 mAh Battery with 90W Fast Charging   \n",
       "2   8 GB RAM, 256 GB inbuilt  5000 mAh Battery with 120W Fast Charging   \n",
       "3  12 GB RAM, 256 GB inbuilt   4600 mAh Battery with 80W Fast Charging   \n",
       "4  12 GB RAM, 256 GB inbuilt  5200 mAh Battery with 120W Fast Charging   \n",
       "\n",
       "                                             display  \\\n",
       "0  6.7 inches, 1080 x 2412 px, 120 Hz Display wit...   \n",
       "1  6.67 inches, 1220 x 2712 px, 120 Hz Display wi...   \n",
       "2  6.67 inches, 1220 x 2712 px, 120 Hz Display wi...   \n",
       "3  6.74 inches, 1240 x 2772 px, 120 Hz Display wi...   \n",
       "4  6.67 inches, 1220 x 2712 px, 144 Hz Display wi...   \n",
       "\n",
       "                                              camera  \\\n",
       "0  50 MP + 32 MP + 8 MP Triple Rear & 32 MP Front...   \n",
       "1  64 MP + 8 MP + 2 MP Triple Rear & 16 MP Front ...   \n",
       "2  200 MP + 8 MP + 2 MP Triple Rear & 16 MP Front...   \n",
       "3  50 MP + 32 MP + 8 MP Triple Rear & 32 MP Front...   \n",
       "4  200 MP + 13 MP + 8 MP Triple Rear & 32 MP Fron...   \n",
       "\n",
       "               extra_storage           os  \n",
       "0                Android v14  No FM Radio  \n",
       "1                Android v14  No FM Radio  \n",
       "2  Memory Card Not Supported  Android v13  \n",
       "3                Android v14  No FM Radio  \n",
       "4  Memory Card Not Supported  Android v13  "
      ]
     },
     "execution_count": 16,
     "metadata": {},
     "output_type": "execute_result"
    }
   ],
   "source": [
    "df.head()"
   ]
  },
  {
   "cell_type": "code",
   "execution_count": 17,
   "id": "9da5fe8f",
   "metadata": {},
   "outputs": [
    {
     "name": "stdout",
     "output_type": "stream",
     "text": [
      "<class 'pandas.core.frame.DataFrame'>\n",
      "RangeIndex: 1020 entries, 0 to 1019\n",
      "Data columns (total 12 columns):\n",
      " #   Column         Non-Null Count  Dtype  \n",
      "---  ------         --------------  -----  \n",
      " 0   mobile_name    1020 non-null   object \n",
      " 1   price          1020 non-null   object \n",
      " 2   rating         1020 non-null   float64\n",
      " 3   specs_score    865 non-null    float64\n",
      " 4   connectivity   1020 non-null   object \n",
      " 5   processor      1020 non-null   object \n",
      " 6   storage        1020 non-null   object \n",
      " 7   battery        1020 non-null   object \n",
      " 8   display        1020 non-null   object \n",
      " 9   camera         1020 non-null   object \n",
      " 10  extra_storage  1017 non-null   object \n",
      " 11  os             1009 non-null   object \n",
      "dtypes: float64(2), object(10)\n",
      "memory usage: 95.8+ KB\n"
     ]
    }
   ],
   "source": [
    "df.info()"
   ]
  },
  {
   "cell_type": "code",
   "execution_count": 18,
   "id": "b967aef8",
   "metadata": {},
   "outputs": [
    {
     "data": {
      "text/plain": [
       "mobile_name        0\n",
       "price              0\n",
       "rating             0\n",
       "specs_score      155\n",
       "connectivity       0\n",
       "processor          0\n",
       "storage            0\n",
       "battery            0\n",
       "display            0\n",
       "camera             0\n",
       "extra_storage      3\n",
       "os                11\n",
       "dtype: int64"
      ]
     },
     "execution_count": 18,
     "metadata": {},
     "output_type": "execute_result"
    }
   ],
   "source": [
    "df.isnull().sum()"
   ]
  },
  {
   "cell_type": "code",
   "execution_count": 19,
   "id": "6da1f19b",
   "metadata": {},
   "outputs": [
    {
     "data": {
      "text/plain": [
       "0                          OPPO Reno 11\n",
       "1                        Poco X6 Pro 5G\n",
       "2         Xiaomi Redmi Note 13 Pro Plus\n",
       "3                      OPPO Reno 11 Pro\n",
       "4       Xiaomi Redmi Note 13 Pro Max 5G\n",
       "                     ...               \n",
       "1015                     POCO M3 Pro 5G\n",
       "1016                   Asus ROG Phone 6\n",
       "1017           iQOO 7 (8GB RAM + 256GB)\n",
       "1018                      Realme X7 Max\n",
       "1019                 Xiaomi Mi Mix Fold\n",
       "Name: mobile_name, Length: 1020, dtype: object"
      ]
     },
     "execution_count": 19,
     "metadata": {},
     "output_type": "execute_result"
    }
   ],
   "source": [
    "df['mobile_name']"
   ]
  },
  {
   "cell_type": "code",
   "execution_count": 20,
   "id": "3f303037",
   "metadata": {},
   "outputs": [],
   "source": [
    "df['brand'] = df['mobile_name'].apply(lambda x: x.split()[0])\n",
    "df['model_name'] = df['mobile_name'].apply(lambda x: x.split()[1])\n",
    "df.drop(columns='mobile_name',inplace = True)\n",
    "df[\"price\"] = df[\"price\"].apply(lambda x: x.split('₹')[1])"
   ]
  },
  {
   "cell_type": "code",
   "execution_count": 21,
   "id": "c65bd254",
   "metadata": {},
   "outputs": [
    {
     "data": {
      "text/html": [
       "<div>\n",
       "<style scoped>\n",
       "    .dataframe tbody tr th:only-of-type {\n",
       "        vertical-align: middle;\n",
       "    }\n",
       "\n",
       "    .dataframe tbody tr th {\n",
       "        vertical-align: top;\n",
       "    }\n",
       "\n",
       "    .dataframe thead th {\n",
       "        text-align: right;\n",
       "    }\n",
       "</style>\n",
       "<table border=\"1\" class=\"dataframe\">\n",
       "  <thead>\n",
       "    <tr style=\"text-align: right;\">\n",
       "      <th></th>\n",
       "      <th>price</th>\n",
       "      <th>rating</th>\n",
       "      <th>specs_score</th>\n",
       "      <th>connectivity</th>\n",
       "      <th>processor</th>\n",
       "      <th>storage</th>\n",
       "      <th>battery</th>\n",
       "      <th>display</th>\n",
       "      <th>camera</th>\n",
       "      <th>extra_storage</th>\n",
       "      <th>os</th>\n",
       "      <th>brand</th>\n",
       "      <th>model_name</th>\n",
       "    </tr>\n",
       "  </thead>\n",
       "  <tbody>\n",
       "    <tr>\n",
       "      <th>0</th>\n",
       "      <td>29,990</td>\n",
       "      <td>4.70</td>\n",
       "      <td>86.0</td>\n",
       "      <td>Dual Sim, 3G, 4G, 5G, VoLTE, Wi-Fi, NFC, IR Bl...</td>\n",
       "      <td>Dimensity 8200, Octa Core, 3.1 GHz Processor</td>\n",
       "      <td>8 GB RAM, 256 GB inbuilt</td>\n",
       "      <td>4800 mAh Battery with 67W Fast Charging</td>\n",
       "      <td>6.7 inches, 1080 x 2412 px, 120 Hz Display wit...</td>\n",
       "      <td>50 MP + 32 MP + 8 MP Triple Rear &amp; 32 MP Front...</td>\n",
       "      <td>Android v14</td>\n",
       "      <td>No FM Radio</td>\n",
       "      <td>OPPO</td>\n",
       "      <td>Reno</td>\n",
       "    </tr>\n",
       "    <tr>\n",
       "      <th>1</th>\n",
       "      <td>19,999</td>\n",
       "      <td>4.50</td>\n",
       "      <td>84.0</td>\n",
       "      <td>Dual Sim, 3G, 4G, 5G, VoLTE, Wi-Fi, NFC, IR Bl...</td>\n",
       "      <td>Dimensity 8300 Ultra, Octa Core, 3.35 GHz Proc...</td>\n",
       "      <td>12 GB RAM, 256 GB inbuilt</td>\n",
       "      <td>5500 mAh Battery with 90W Fast Charging</td>\n",
       "      <td>6.67 inches, 1220 x 2712 px, 120 Hz Display wi...</td>\n",
       "      <td>64 MP + 8 MP + 2 MP Triple Rear &amp; 16 MP Front ...</td>\n",
       "      <td>Android v14</td>\n",
       "      <td>No FM Radio</td>\n",
       "      <td>Poco</td>\n",
       "      <td>X6</td>\n",
       "    </tr>\n",
       "    <tr>\n",
       "      <th>2</th>\n",
       "      <td>31,999</td>\n",
       "      <td>4.35</td>\n",
       "      <td>87.0</td>\n",
       "      <td>Dual Sim, 3G, 4G, 5G, VoLTE, Wi-Fi, NFC, IR Bl...</td>\n",
       "      <td>Dimensity 7200 Ultra, Octa Core, 2.8 GHz Proce...</td>\n",
       "      <td>8 GB RAM, 256 GB inbuilt</td>\n",
       "      <td>5000 mAh Battery with 120W Fast Charging</td>\n",
       "      <td>6.67 inches, 1220 x 2712 px, 120 Hz Display wi...</td>\n",
       "      <td>200 MP + 8 MP + 2 MP Triple Rear &amp; 16 MP Front...</td>\n",
       "      <td>Memory Card Not Supported</td>\n",
       "      <td>Android v13</td>\n",
       "      <td>Xiaomi</td>\n",
       "      <td>Redmi</td>\n",
       "    </tr>\n",
       "    <tr>\n",
       "      <th>3</th>\n",
       "      <td>40,990</td>\n",
       "      <td>4.75</td>\n",
       "      <td>88.0</td>\n",
       "      <td>Dual Sim, 3G, 4G, 5G, VoLTE, Wi-Fi, NFC, IR Bl...</td>\n",
       "      <td>Dimensity 8200, Octa Core, 3.1 GHz Processor</td>\n",
       "      <td>12 GB RAM, 256 GB inbuilt</td>\n",
       "      <td>4600 mAh Battery with 80W Fast Charging</td>\n",
       "      <td>6.74 inches, 1240 x 2772 px, 120 Hz Display wi...</td>\n",
       "      <td>50 MP + 32 MP + 8 MP Triple Rear &amp; 32 MP Front...</td>\n",
       "      <td>Android v14</td>\n",
       "      <td>No FM Radio</td>\n",
       "      <td>OPPO</td>\n",
       "      <td>Reno</td>\n",
       "    </tr>\n",
       "    <tr>\n",
       "      <th>4</th>\n",
       "      <td>33,999</td>\n",
       "      <td>4.00</td>\n",
       "      <td>87.0</td>\n",
       "      <td>Dual Sim, 3G, 4G, 5G, VoLTE, Wi-Fi, NFC, IR Bl...</td>\n",
       "      <td>Snapdragon 7 Gen1, Octa Core, 2.4 GHz Processor</td>\n",
       "      <td>12 GB RAM, 256 GB inbuilt</td>\n",
       "      <td>5200 mAh Battery with 120W Fast Charging</td>\n",
       "      <td>6.67 inches, 1220 x 2712 px, 144 Hz Display wi...</td>\n",
       "      <td>200 MP + 13 MP + 8 MP Triple Rear &amp; 32 MP Fron...</td>\n",
       "      <td>Memory Card Not Supported</td>\n",
       "      <td>Android v13</td>\n",
       "      <td>Xiaomi</td>\n",
       "      <td>Redmi</td>\n",
       "    </tr>\n",
       "  </tbody>\n",
       "</table>\n",
       "</div>"
      ],
      "text/plain": [
       "    price  rating  specs_score  \\\n",
       "0  29,990    4.70         86.0   \n",
       "1  19,999    4.50         84.0   \n",
       "2  31,999    4.35         87.0   \n",
       "3  40,990    4.75         88.0   \n",
       "4  33,999    4.00         87.0   \n",
       "\n",
       "                                        connectivity  \\\n",
       "0  Dual Sim, 3G, 4G, 5G, VoLTE, Wi-Fi, NFC, IR Bl...   \n",
       "1  Dual Sim, 3G, 4G, 5G, VoLTE, Wi-Fi, NFC, IR Bl...   \n",
       "2  Dual Sim, 3G, 4G, 5G, VoLTE, Wi-Fi, NFC, IR Bl...   \n",
       "3  Dual Sim, 3G, 4G, 5G, VoLTE, Wi-Fi, NFC, IR Bl...   \n",
       "4  Dual Sim, 3G, 4G, 5G, VoLTE, Wi-Fi, NFC, IR Bl...   \n",
       "\n",
       "                                           processor  \\\n",
       "0       Dimensity 8200, Octa Core, 3.1 GHz Processor   \n",
       "1  Dimensity 8300 Ultra, Octa Core, 3.35 GHz Proc...   \n",
       "2  Dimensity 7200 Ultra, Octa Core, 2.8 GHz Proce...   \n",
       "3       Dimensity 8200, Octa Core, 3.1 GHz Processor   \n",
       "4    Snapdragon 7 Gen1, Octa Core, 2.4 GHz Processor   \n",
       "\n",
       "                     storage                                   battery  \\\n",
       "0   8 GB RAM, 256 GB inbuilt   4800 mAh Battery with 67W Fast Charging   \n",
       "1  12 GB RAM, 256 GB inbuilt   5500 mAh Battery with 90W Fast Charging   \n",
       "2   8 GB RAM, 256 GB inbuilt  5000 mAh Battery with 120W Fast Charging   \n",
       "3  12 GB RAM, 256 GB inbuilt   4600 mAh Battery with 80W Fast Charging   \n",
       "4  12 GB RAM, 256 GB inbuilt  5200 mAh Battery with 120W Fast Charging   \n",
       "\n",
       "                                             display  \\\n",
       "0  6.7 inches, 1080 x 2412 px, 120 Hz Display wit...   \n",
       "1  6.67 inches, 1220 x 2712 px, 120 Hz Display wi...   \n",
       "2  6.67 inches, 1220 x 2712 px, 120 Hz Display wi...   \n",
       "3  6.74 inches, 1240 x 2772 px, 120 Hz Display wi...   \n",
       "4  6.67 inches, 1220 x 2712 px, 144 Hz Display wi...   \n",
       "\n",
       "                                              camera  \\\n",
       "0  50 MP + 32 MP + 8 MP Triple Rear & 32 MP Front...   \n",
       "1  64 MP + 8 MP + 2 MP Triple Rear & 16 MP Front ...   \n",
       "2  200 MP + 8 MP + 2 MP Triple Rear & 16 MP Front...   \n",
       "3  50 MP + 32 MP + 8 MP Triple Rear & 32 MP Front...   \n",
       "4  200 MP + 13 MP + 8 MP Triple Rear & 32 MP Fron...   \n",
       "\n",
       "               extra_storage           os   brand model_name  \n",
       "0                Android v14  No FM Radio    OPPO       Reno  \n",
       "1                Android v14  No FM Radio    Poco         X6  \n",
       "2  Memory Card Not Supported  Android v13  Xiaomi      Redmi  \n",
       "3                Android v14  No FM Radio    OPPO       Reno  \n",
       "4  Memory Card Not Supported  Android v13  Xiaomi      Redmi  "
      ]
     },
     "execution_count": 21,
     "metadata": {},
     "output_type": "execute_result"
    }
   ],
   "source": [
    "df.head()"
   ]
  },
  {
   "cell_type": "code",
   "execution_count": 23,
   "id": "ee88b450",
   "metadata": {},
   "outputs": [
    {
     "data": {
      "text/plain": [
       "'Dual Sim, 3G, 4G, 5G, VoLTE, Wi-Fi, NFC, IR Blaster'"
      ]
     },
     "execution_count": 23,
     "metadata": {},
     "output_type": "execute_result"
    }
   ],
   "source": [
    "df['connectivity'][0]"
   ]
  },
  {
   "cell_type": "code",
   "execution_count": 24,
   "id": "d015359d",
   "metadata": {},
   "outputs": [],
   "source": [
    "df['connectivity'] = df['connectivity'].apply(lambda x: ' '.join(re.findall(r'\\b[345]G\\b', x)))"
   ]
  },
  {
   "cell_type": "code",
   "execution_count": 25,
   "id": "c85808d8",
   "metadata": {},
   "outputs": [
    {
     "data": {
      "text/html": [
       "<div>\n",
       "<style scoped>\n",
       "    .dataframe tbody tr th:only-of-type {\n",
       "        vertical-align: middle;\n",
       "    }\n",
       "\n",
       "    .dataframe tbody tr th {\n",
       "        vertical-align: top;\n",
       "    }\n",
       "\n",
       "    .dataframe thead th {\n",
       "        text-align: right;\n",
       "    }\n",
       "</style>\n",
       "<table border=\"1\" class=\"dataframe\">\n",
       "  <thead>\n",
       "    <tr style=\"text-align: right;\">\n",
       "      <th></th>\n",
       "      <th>price</th>\n",
       "      <th>rating</th>\n",
       "      <th>specs_score</th>\n",
       "      <th>connectivity</th>\n",
       "      <th>processor</th>\n",
       "      <th>storage</th>\n",
       "      <th>battery</th>\n",
       "      <th>display</th>\n",
       "      <th>camera</th>\n",
       "      <th>extra_storage</th>\n",
       "      <th>os</th>\n",
       "      <th>brand</th>\n",
       "      <th>model_name</th>\n",
       "    </tr>\n",
       "  </thead>\n",
       "  <tbody>\n",
       "    <tr>\n",
       "      <th>0</th>\n",
       "      <td>29,990</td>\n",
       "      <td>4.70</td>\n",
       "      <td>86.0</td>\n",
       "      <td>3G 4G 5G</td>\n",
       "      <td>Dimensity 8200, Octa Core, 3.1 GHz Processor</td>\n",
       "      <td>8 GB RAM, 256 GB inbuilt</td>\n",
       "      <td>4800 mAh Battery with 67W Fast Charging</td>\n",
       "      <td>6.7 inches, 1080 x 2412 px, 120 Hz Display wit...</td>\n",
       "      <td>50 MP + 32 MP + 8 MP Triple Rear &amp; 32 MP Front...</td>\n",
       "      <td>Android v14</td>\n",
       "      <td>No FM Radio</td>\n",
       "      <td>OPPO</td>\n",
       "      <td>Reno</td>\n",
       "    </tr>\n",
       "    <tr>\n",
       "      <th>1</th>\n",
       "      <td>19,999</td>\n",
       "      <td>4.50</td>\n",
       "      <td>84.0</td>\n",
       "      <td>3G 4G 5G</td>\n",
       "      <td>Dimensity 8300 Ultra, Octa Core, 3.35 GHz Proc...</td>\n",
       "      <td>12 GB RAM, 256 GB inbuilt</td>\n",
       "      <td>5500 mAh Battery with 90W Fast Charging</td>\n",
       "      <td>6.67 inches, 1220 x 2712 px, 120 Hz Display wi...</td>\n",
       "      <td>64 MP + 8 MP + 2 MP Triple Rear &amp; 16 MP Front ...</td>\n",
       "      <td>Android v14</td>\n",
       "      <td>No FM Radio</td>\n",
       "      <td>Poco</td>\n",
       "      <td>X6</td>\n",
       "    </tr>\n",
       "    <tr>\n",
       "      <th>2</th>\n",
       "      <td>31,999</td>\n",
       "      <td>4.35</td>\n",
       "      <td>87.0</td>\n",
       "      <td>3G 4G 5G</td>\n",
       "      <td>Dimensity 7200 Ultra, Octa Core, 2.8 GHz Proce...</td>\n",
       "      <td>8 GB RAM, 256 GB inbuilt</td>\n",
       "      <td>5000 mAh Battery with 120W Fast Charging</td>\n",
       "      <td>6.67 inches, 1220 x 2712 px, 120 Hz Display wi...</td>\n",
       "      <td>200 MP + 8 MP + 2 MP Triple Rear &amp; 16 MP Front...</td>\n",
       "      <td>Memory Card Not Supported</td>\n",
       "      <td>Android v13</td>\n",
       "      <td>Xiaomi</td>\n",
       "      <td>Redmi</td>\n",
       "    </tr>\n",
       "    <tr>\n",
       "      <th>3</th>\n",
       "      <td>40,990</td>\n",
       "      <td>4.75</td>\n",
       "      <td>88.0</td>\n",
       "      <td>3G 4G 5G</td>\n",
       "      <td>Dimensity 8200, Octa Core, 3.1 GHz Processor</td>\n",
       "      <td>12 GB RAM, 256 GB inbuilt</td>\n",
       "      <td>4600 mAh Battery with 80W Fast Charging</td>\n",
       "      <td>6.74 inches, 1240 x 2772 px, 120 Hz Display wi...</td>\n",
       "      <td>50 MP + 32 MP + 8 MP Triple Rear &amp; 32 MP Front...</td>\n",
       "      <td>Android v14</td>\n",
       "      <td>No FM Radio</td>\n",
       "      <td>OPPO</td>\n",
       "      <td>Reno</td>\n",
       "    </tr>\n",
       "    <tr>\n",
       "      <th>4</th>\n",
       "      <td>33,999</td>\n",
       "      <td>4.00</td>\n",
       "      <td>87.0</td>\n",
       "      <td>3G 4G 5G</td>\n",
       "      <td>Snapdragon 7 Gen1, Octa Core, 2.4 GHz Processor</td>\n",
       "      <td>12 GB RAM, 256 GB inbuilt</td>\n",
       "      <td>5200 mAh Battery with 120W Fast Charging</td>\n",
       "      <td>6.67 inches, 1220 x 2712 px, 144 Hz Display wi...</td>\n",
       "      <td>200 MP + 13 MP + 8 MP Triple Rear &amp; 32 MP Fron...</td>\n",
       "      <td>Memory Card Not Supported</td>\n",
       "      <td>Android v13</td>\n",
       "      <td>Xiaomi</td>\n",
       "      <td>Redmi</td>\n",
       "    </tr>\n",
       "  </tbody>\n",
       "</table>\n",
       "</div>"
      ],
      "text/plain": [
       "    price  rating  specs_score connectivity  \\\n",
       "0  29,990    4.70         86.0     3G 4G 5G   \n",
       "1  19,999    4.50         84.0     3G 4G 5G   \n",
       "2  31,999    4.35         87.0     3G 4G 5G   \n",
       "3  40,990    4.75         88.0     3G 4G 5G   \n",
       "4  33,999    4.00         87.0     3G 4G 5G   \n",
       "\n",
       "                                           processor  \\\n",
       "0       Dimensity 8200, Octa Core, 3.1 GHz Processor   \n",
       "1  Dimensity 8300 Ultra, Octa Core, 3.35 GHz Proc...   \n",
       "2  Dimensity 7200 Ultra, Octa Core, 2.8 GHz Proce...   \n",
       "3       Dimensity 8200, Octa Core, 3.1 GHz Processor   \n",
       "4    Snapdragon 7 Gen1, Octa Core, 2.4 GHz Processor   \n",
       "\n",
       "                     storage                                   battery  \\\n",
       "0   8 GB RAM, 256 GB inbuilt   4800 mAh Battery with 67W Fast Charging   \n",
       "1  12 GB RAM, 256 GB inbuilt   5500 mAh Battery with 90W Fast Charging   \n",
       "2   8 GB RAM, 256 GB inbuilt  5000 mAh Battery with 120W Fast Charging   \n",
       "3  12 GB RAM, 256 GB inbuilt   4600 mAh Battery with 80W Fast Charging   \n",
       "4  12 GB RAM, 256 GB inbuilt  5200 mAh Battery with 120W Fast Charging   \n",
       "\n",
       "                                             display  \\\n",
       "0  6.7 inches, 1080 x 2412 px, 120 Hz Display wit...   \n",
       "1  6.67 inches, 1220 x 2712 px, 120 Hz Display wi...   \n",
       "2  6.67 inches, 1220 x 2712 px, 120 Hz Display wi...   \n",
       "3  6.74 inches, 1240 x 2772 px, 120 Hz Display wi...   \n",
       "4  6.67 inches, 1220 x 2712 px, 144 Hz Display wi...   \n",
       "\n",
       "                                              camera  \\\n",
       "0  50 MP + 32 MP + 8 MP Triple Rear & 32 MP Front...   \n",
       "1  64 MP + 8 MP + 2 MP Triple Rear & 16 MP Front ...   \n",
       "2  200 MP + 8 MP + 2 MP Triple Rear & 16 MP Front...   \n",
       "3  50 MP + 32 MP + 8 MP Triple Rear & 32 MP Front...   \n",
       "4  200 MP + 13 MP + 8 MP Triple Rear & 32 MP Fron...   \n",
       "\n",
       "               extra_storage           os   brand model_name  \n",
       "0                Android v14  No FM Radio    OPPO       Reno  \n",
       "1                Android v14  No FM Radio    Poco         X6  \n",
       "2  Memory Card Not Supported  Android v13  Xiaomi      Redmi  \n",
       "3                Android v14  No FM Radio    OPPO       Reno  \n",
       "4  Memory Card Not Supported  Android v13  Xiaomi      Redmi  "
      ]
     },
     "execution_count": 25,
     "metadata": {},
     "output_type": "execute_result"
    }
   ],
   "source": [
    "df.head()"
   ]
  },
  {
   "cell_type": "code",
   "execution_count": 26,
   "id": "ca7a0b14",
   "metadata": {},
   "outputs": [],
   "source": [
    "df['RAM'] = df['storage'].apply(lambda x: x.split()[0])\n",
    "df['ROM'] = df['storage'].str.extract(r'(\\d+)\\s*GB inbuilt')"
   ]
  },
  {
   "cell_type": "code",
   "execution_count": 27,
   "id": "43ce9d37",
   "metadata": {},
   "outputs": [
    {
     "data": {
      "text/html": [
       "<div>\n",
       "<style scoped>\n",
       "    .dataframe tbody tr th:only-of-type {\n",
       "        vertical-align: middle;\n",
       "    }\n",
       "\n",
       "    .dataframe tbody tr th {\n",
       "        vertical-align: top;\n",
       "    }\n",
       "\n",
       "    .dataframe thead th {\n",
       "        text-align: right;\n",
       "    }\n",
       "</style>\n",
       "<table border=\"1\" class=\"dataframe\">\n",
       "  <thead>\n",
       "    <tr style=\"text-align: right;\">\n",
       "      <th></th>\n",
       "      <th>price</th>\n",
       "      <th>rating</th>\n",
       "      <th>specs_score</th>\n",
       "      <th>connectivity</th>\n",
       "      <th>processor</th>\n",
       "      <th>storage</th>\n",
       "      <th>battery</th>\n",
       "      <th>display</th>\n",
       "      <th>camera</th>\n",
       "      <th>extra_storage</th>\n",
       "      <th>os</th>\n",
       "      <th>brand</th>\n",
       "      <th>model_name</th>\n",
       "      <th>RAM</th>\n",
       "      <th>ROM</th>\n",
       "    </tr>\n",
       "  </thead>\n",
       "  <tbody>\n",
       "    <tr>\n",
       "      <th>0</th>\n",
       "      <td>29,990</td>\n",
       "      <td>4.70</td>\n",
       "      <td>86.0</td>\n",
       "      <td>3G 4G 5G</td>\n",
       "      <td>Dimensity 8200, Octa Core, 3.1 GHz Processor</td>\n",
       "      <td>8 GB RAM, 256 GB inbuilt</td>\n",
       "      <td>4800 mAh Battery with 67W Fast Charging</td>\n",
       "      <td>6.7 inches, 1080 x 2412 px, 120 Hz Display wit...</td>\n",
       "      <td>50 MP + 32 MP + 8 MP Triple Rear &amp; 32 MP Front...</td>\n",
       "      <td>Android v14</td>\n",
       "      <td>No FM Radio</td>\n",
       "      <td>OPPO</td>\n",
       "      <td>Reno</td>\n",
       "      <td>8</td>\n",
       "      <td>256</td>\n",
       "    </tr>\n",
       "    <tr>\n",
       "      <th>1</th>\n",
       "      <td>19,999</td>\n",
       "      <td>4.50</td>\n",
       "      <td>84.0</td>\n",
       "      <td>3G 4G 5G</td>\n",
       "      <td>Dimensity 8300 Ultra, Octa Core, 3.35 GHz Proc...</td>\n",
       "      <td>12 GB RAM, 256 GB inbuilt</td>\n",
       "      <td>5500 mAh Battery with 90W Fast Charging</td>\n",
       "      <td>6.67 inches, 1220 x 2712 px, 120 Hz Display wi...</td>\n",
       "      <td>64 MP + 8 MP + 2 MP Triple Rear &amp; 16 MP Front ...</td>\n",
       "      <td>Android v14</td>\n",
       "      <td>No FM Radio</td>\n",
       "      <td>Poco</td>\n",
       "      <td>X6</td>\n",
       "      <td>12</td>\n",
       "      <td>256</td>\n",
       "    </tr>\n",
       "    <tr>\n",
       "      <th>2</th>\n",
       "      <td>31,999</td>\n",
       "      <td>4.35</td>\n",
       "      <td>87.0</td>\n",
       "      <td>3G 4G 5G</td>\n",
       "      <td>Dimensity 7200 Ultra, Octa Core, 2.8 GHz Proce...</td>\n",
       "      <td>8 GB RAM, 256 GB inbuilt</td>\n",
       "      <td>5000 mAh Battery with 120W Fast Charging</td>\n",
       "      <td>6.67 inches, 1220 x 2712 px, 120 Hz Display wi...</td>\n",
       "      <td>200 MP + 8 MP + 2 MP Triple Rear &amp; 16 MP Front...</td>\n",
       "      <td>Memory Card Not Supported</td>\n",
       "      <td>Android v13</td>\n",
       "      <td>Xiaomi</td>\n",
       "      <td>Redmi</td>\n",
       "      <td>8</td>\n",
       "      <td>256</td>\n",
       "    </tr>\n",
       "    <tr>\n",
       "      <th>3</th>\n",
       "      <td>40,990</td>\n",
       "      <td>4.75</td>\n",
       "      <td>88.0</td>\n",
       "      <td>3G 4G 5G</td>\n",
       "      <td>Dimensity 8200, Octa Core, 3.1 GHz Processor</td>\n",
       "      <td>12 GB RAM, 256 GB inbuilt</td>\n",
       "      <td>4600 mAh Battery with 80W Fast Charging</td>\n",
       "      <td>6.74 inches, 1240 x 2772 px, 120 Hz Display wi...</td>\n",
       "      <td>50 MP + 32 MP + 8 MP Triple Rear &amp; 32 MP Front...</td>\n",
       "      <td>Android v14</td>\n",
       "      <td>No FM Radio</td>\n",
       "      <td>OPPO</td>\n",
       "      <td>Reno</td>\n",
       "      <td>12</td>\n",
       "      <td>256</td>\n",
       "    </tr>\n",
       "    <tr>\n",
       "      <th>4</th>\n",
       "      <td>33,999</td>\n",
       "      <td>4.00</td>\n",
       "      <td>87.0</td>\n",
       "      <td>3G 4G 5G</td>\n",
       "      <td>Snapdragon 7 Gen1, Octa Core, 2.4 GHz Processor</td>\n",
       "      <td>12 GB RAM, 256 GB inbuilt</td>\n",
       "      <td>5200 mAh Battery with 120W Fast Charging</td>\n",
       "      <td>6.67 inches, 1220 x 2712 px, 144 Hz Display wi...</td>\n",
       "      <td>200 MP + 13 MP + 8 MP Triple Rear &amp; 32 MP Fron...</td>\n",
       "      <td>Memory Card Not Supported</td>\n",
       "      <td>Android v13</td>\n",
       "      <td>Xiaomi</td>\n",
       "      <td>Redmi</td>\n",
       "      <td>12</td>\n",
       "      <td>256</td>\n",
       "    </tr>\n",
       "  </tbody>\n",
       "</table>\n",
       "</div>"
      ],
      "text/plain": [
       "    price  rating  specs_score connectivity  \\\n",
       "0  29,990    4.70         86.0     3G 4G 5G   \n",
       "1  19,999    4.50         84.0     3G 4G 5G   \n",
       "2  31,999    4.35         87.0     3G 4G 5G   \n",
       "3  40,990    4.75         88.0     3G 4G 5G   \n",
       "4  33,999    4.00         87.0     3G 4G 5G   \n",
       "\n",
       "                                           processor  \\\n",
       "0       Dimensity 8200, Octa Core, 3.1 GHz Processor   \n",
       "1  Dimensity 8300 Ultra, Octa Core, 3.35 GHz Proc...   \n",
       "2  Dimensity 7200 Ultra, Octa Core, 2.8 GHz Proce...   \n",
       "3       Dimensity 8200, Octa Core, 3.1 GHz Processor   \n",
       "4    Snapdragon 7 Gen1, Octa Core, 2.4 GHz Processor   \n",
       "\n",
       "                     storage                                   battery  \\\n",
       "0   8 GB RAM, 256 GB inbuilt   4800 mAh Battery with 67W Fast Charging   \n",
       "1  12 GB RAM, 256 GB inbuilt   5500 mAh Battery with 90W Fast Charging   \n",
       "2   8 GB RAM, 256 GB inbuilt  5000 mAh Battery with 120W Fast Charging   \n",
       "3  12 GB RAM, 256 GB inbuilt   4600 mAh Battery with 80W Fast Charging   \n",
       "4  12 GB RAM, 256 GB inbuilt  5200 mAh Battery with 120W Fast Charging   \n",
       "\n",
       "                                             display  \\\n",
       "0  6.7 inches, 1080 x 2412 px, 120 Hz Display wit...   \n",
       "1  6.67 inches, 1220 x 2712 px, 120 Hz Display wi...   \n",
       "2  6.67 inches, 1220 x 2712 px, 120 Hz Display wi...   \n",
       "3  6.74 inches, 1240 x 2772 px, 120 Hz Display wi...   \n",
       "4  6.67 inches, 1220 x 2712 px, 144 Hz Display wi...   \n",
       "\n",
       "                                              camera  \\\n",
       "0  50 MP + 32 MP + 8 MP Triple Rear & 32 MP Front...   \n",
       "1  64 MP + 8 MP + 2 MP Triple Rear & 16 MP Front ...   \n",
       "2  200 MP + 8 MP + 2 MP Triple Rear & 16 MP Front...   \n",
       "3  50 MP + 32 MP + 8 MP Triple Rear & 32 MP Front...   \n",
       "4  200 MP + 13 MP + 8 MP Triple Rear & 32 MP Fron...   \n",
       "\n",
       "               extra_storage           os   brand model_name RAM  ROM  \n",
       "0                Android v14  No FM Radio    OPPO       Reno   8  256  \n",
       "1                Android v14  No FM Radio    Poco         X6  12  256  \n",
       "2  Memory Card Not Supported  Android v13  Xiaomi      Redmi   8  256  \n",
       "3                Android v14  No FM Radio    OPPO       Reno  12  256  \n",
       "4  Memory Card Not Supported  Android v13  Xiaomi      Redmi  12  256  "
      ]
     },
     "execution_count": 27,
     "metadata": {},
     "output_type": "execute_result"
    }
   ],
   "source": [
    "df.head()"
   ]
  },
  {
   "cell_type": "code",
   "execution_count": 32,
   "id": "df6fab6d",
   "metadata": {},
   "outputs": [],
   "source": [
    "df['processor'][0].split(',')[0]\n",
    "df['processor'] = df['processor'].apply(lambda x: x.split(',')[0])"
   ]
  },
  {
   "cell_type": "code",
   "execution_count": 33,
   "id": "4eb36992",
   "metadata": {},
   "outputs": [],
   "source": [
    "df['battery'][0]\n",
    "df['battery_capacity'] = df['battery'].str.extract(r'(\\d+)\\s*\\u2009?mAh')"
   ]
  },
  {
   "cell_type": "code",
   "execution_count": 34,
   "id": "4bd64cbc",
   "metadata": {},
   "outputs": [
    {
     "data": {
      "text/plain": [
       "array(['4800', '5500', '5000', '4600', '5200', '5100', '6000', '5160',\n",
       "       '4400', '5400', '4500', '3349', '3279', '3240', '3900', '3700',\n",
       "       '4422', '4383', '4700', '4880', '4325', nan, '3334', '5180',\n",
       "       '4805', '4385', '3060', '6500', '3500', '4815', '3274', '4000',\n",
       "       '5240', '5800', '7000', '4900', '3110', '2050', '4520', '4980',\n",
       "       '2150', '2000', '3000', '7100', '4200', '4610', '1450', '4355',\n",
       "       '4410', '1000', '4870', '4810', '9600', '4830', '4300', '2800',\n",
       "       '4575', '3300', '5050', '5080', '4250', '1500', '2500', '3800',\n",
       "       '4020', '4352', '1821', '800', '6700', '2750', '4050', '4820',\n",
       "       '5020', '4350', '1480', '5300', '4290', '1900', '4110', '1150',\n",
       "       '3100', '1300', '5580', '11000', '10800', '500', '4821', '4230'],\n",
       "      dtype=object)"
      ]
     },
     "execution_count": 34,
     "metadata": {},
     "output_type": "execute_result"
    }
   ],
   "source": [
    "df['battery_capacity'].unique()"
   ]
  },
  {
   "cell_type": "code",
   "execution_count": 38,
   "id": "3505041f",
   "metadata": {},
   "outputs": [],
   "source": [
    "df['charging_speed'] = df['battery'].str.extract(r'(\\d+)\\s*W')"
   ]
  },
  {
   "cell_type": "code",
   "execution_count": 39,
   "id": "011a65ae",
   "metadata": {},
   "outputs": [
    {
     "data": {
      "text/html": [
       "<div>\n",
       "<style scoped>\n",
       "    .dataframe tbody tr th:only-of-type {\n",
       "        vertical-align: middle;\n",
       "    }\n",
       "\n",
       "    .dataframe tbody tr th {\n",
       "        vertical-align: top;\n",
       "    }\n",
       "\n",
       "    .dataframe thead th {\n",
       "        text-align: right;\n",
       "    }\n",
       "</style>\n",
       "<table border=\"1\" class=\"dataframe\">\n",
       "  <thead>\n",
       "    <tr style=\"text-align: right;\">\n",
       "      <th></th>\n",
       "      <th>price</th>\n",
       "      <th>rating</th>\n",
       "      <th>specs_score</th>\n",
       "      <th>connectivity</th>\n",
       "      <th>processor</th>\n",
       "      <th>storage</th>\n",
       "      <th>battery</th>\n",
       "      <th>display</th>\n",
       "      <th>camera</th>\n",
       "      <th>extra_storage</th>\n",
       "      <th>os</th>\n",
       "      <th>brand</th>\n",
       "      <th>model_name</th>\n",
       "      <th>RAM</th>\n",
       "      <th>ROM</th>\n",
       "      <th>battery_capacity</th>\n",
       "      <th>charging_speed</th>\n",
       "    </tr>\n",
       "  </thead>\n",
       "  <tbody>\n",
       "    <tr>\n",
       "      <th>0</th>\n",
       "      <td>29,990</td>\n",
       "      <td>4.70</td>\n",
       "      <td>86.0</td>\n",
       "      <td>3G 4G 5G</td>\n",
       "      <td>Dimensity 8200</td>\n",
       "      <td>8 GB RAM, 256 GB inbuilt</td>\n",
       "      <td>4800 mAh Battery with 67W Fast Charging</td>\n",
       "      <td>6.7 inches, 1080 x 2412 px, 120 Hz Display wit...</td>\n",
       "      <td>50 MP + 32 MP + 8 MP Triple Rear &amp; 32 MP Front...</td>\n",
       "      <td>Android v14</td>\n",
       "      <td>No FM Radio</td>\n",
       "      <td>OPPO</td>\n",
       "      <td>Reno</td>\n",
       "      <td>8</td>\n",
       "      <td>256</td>\n",
       "      <td>4800</td>\n",
       "      <td>67</td>\n",
       "    </tr>\n",
       "    <tr>\n",
       "      <th>1</th>\n",
       "      <td>19,999</td>\n",
       "      <td>4.50</td>\n",
       "      <td>84.0</td>\n",
       "      <td>3G 4G 5G</td>\n",
       "      <td>Dimensity 8300 Ultra</td>\n",
       "      <td>12 GB RAM, 256 GB inbuilt</td>\n",
       "      <td>5500 mAh Battery with 90W Fast Charging</td>\n",
       "      <td>6.67 inches, 1220 x 2712 px, 120 Hz Display wi...</td>\n",
       "      <td>64 MP + 8 MP + 2 MP Triple Rear &amp; 16 MP Front ...</td>\n",
       "      <td>Android v14</td>\n",
       "      <td>No FM Radio</td>\n",
       "      <td>Poco</td>\n",
       "      <td>X6</td>\n",
       "      <td>12</td>\n",
       "      <td>256</td>\n",
       "      <td>5500</td>\n",
       "      <td>90</td>\n",
       "    </tr>\n",
       "    <tr>\n",
       "      <th>2</th>\n",
       "      <td>31,999</td>\n",
       "      <td>4.35</td>\n",
       "      <td>87.0</td>\n",
       "      <td>3G 4G 5G</td>\n",
       "      <td>Dimensity 7200 Ultra</td>\n",
       "      <td>8 GB RAM, 256 GB inbuilt</td>\n",
       "      <td>5000 mAh Battery with 120W Fast Charging</td>\n",
       "      <td>6.67 inches, 1220 x 2712 px, 120 Hz Display wi...</td>\n",
       "      <td>200 MP + 8 MP + 2 MP Triple Rear &amp; 16 MP Front...</td>\n",
       "      <td>Memory Card Not Supported</td>\n",
       "      <td>Android v13</td>\n",
       "      <td>Xiaomi</td>\n",
       "      <td>Redmi</td>\n",
       "      <td>8</td>\n",
       "      <td>256</td>\n",
       "      <td>5000</td>\n",
       "      <td>120</td>\n",
       "    </tr>\n",
       "    <tr>\n",
       "      <th>3</th>\n",
       "      <td>40,990</td>\n",
       "      <td>4.75</td>\n",
       "      <td>88.0</td>\n",
       "      <td>3G 4G 5G</td>\n",
       "      <td>Dimensity 8200</td>\n",
       "      <td>12 GB RAM, 256 GB inbuilt</td>\n",
       "      <td>4600 mAh Battery with 80W Fast Charging</td>\n",
       "      <td>6.74 inches, 1240 x 2772 px, 120 Hz Display wi...</td>\n",
       "      <td>50 MP + 32 MP + 8 MP Triple Rear &amp; 32 MP Front...</td>\n",
       "      <td>Android v14</td>\n",
       "      <td>No FM Radio</td>\n",
       "      <td>OPPO</td>\n",
       "      <td>Reno</td>\n",
       "      <td>12</td>\n",
       "      <td>256</td>\n",
       "      <td>4600</td>\n",
       "      <td>80</td>\n",
       "    </tr>\n",
       "    <tr>\n",
       "      <th>4</th>\n",
       "      <td>33,999</td>\n",
       "      <td>4.00</td>\n",
       "      <td>87.0</td>\n",
       "      <td>3G 4G 5G</td>\n",
       "      <td>Snapdragon 7 Gen1</td>\n",
       "      <td>12 GB RAM, 256 GB inbuilt</td>\n",
       "      <td>5200 mAh Battery with 120W Fast Charging</td>\n",
       "      <td>6.67 inches, 1220 x 2712 px, 144 Hz Display wi...</td>\n",
       "      <td>200 MP + 13 MP + 8 MP Triple Rear &amp; 32 MP Fron...</td>\n",
       "      <td>Memory Card Not Supported</td>\n",
       "      <td>Android v13</td>\n",
       "      <td>Xiaomi</td>\n",
       "      <td>Redmi</td>\n",
       "      <td>12</td>\n",
       "      <td>256</td>\n",
       "      <td>5200</td>\n",
       "      <td>120</td>\n",
       "    </tr>\n",
       "  </tbody>\n",
       "</table>\n",
       "</div>"
      ],
      "text/plain": [
       "    price  rating  specs_score connectivity             processor  \\\n",
       "0  29,990    4.70         86.0     3G 4G 5G        Dimensity 8200   \n",
       "1  19,999    4.50         84.0     3G 4G 5G  Dimensity 8300 Ultra   \n",
       "2  31,999    4.35         87.0     3G 4G 5G  Dimensity 7200 Ultra   \n",
       "3  40,990    4.75         88.0     3G 4G 5G        Dimensity 8200   \n",
       "4  33,999    4.00         87.0     3G 4G 5G     Snapdragon 7 Gen1   \n",
       "\n",
       "                     storage                                   battery  \\\n",
       "0   8 GB RAM, 256 GB inbuilt   4800 mAh Battery with 67W Fast Charging   \n",
       "1  12 GB RAM, 256 GB inbuilt   5500 mAh Battery with 90W Fast Charging   \n",
       "2   8 GB RAM, 256 GB inbuilt  5000 mAh Battery with 120W Fast Charging   \n",
       "3  12 GB RAM, 256 GB inbuilt   4600 mAh Battery with 80W Fast Charging   \n",
       "4  12 GB RAM, 256 GB inbuilt  5200 mAh Battery with 120W Fast Charging   \n",
       "\n",
       "                                             display  \\\n",
       "0  6.7 inches, 1080 x 2412 px, 120 Hz Display wit...   \n",
       "1  6.67 inches, 1220 x 2712 px, 120 Hz Display wi...   \n",
       "2  6.67 inches, 1220 x 2712 px, 120 Hz Display wi...   \n",
       "3  6.74 inches, 1240 x 2772 px, 120 Hz Display wi...   \n",
       "4  6.67 inches, 1220 x 2712 px, 144 Hz Display wi...   \n",
       "\n",
       "                                              camera  \\\n",
       "0  50 MP + 32 MP + 8 MP Triple Rear & 32 MP Front...   \n",
       "1  64 MP + 8 MP + 2 MP Triple Rear & 16 MP Front ...   \n",
       "2  200 MP + 8 MP + 2 MP Triple Rear & 16 MP Front...   \n",
       "3  50 MP + 32 MP + 8 MP Triple Rear & 32 MP Front...   \n",
       "4  200 MP + 13 MP + 8 MP Triple Rear & 32 MP Fron...   \n",
       "\n",
       "               extra_storage           os   brand model_name RAM  ROM  \\\n",
       "0                Android v14  No FM Radio    OPPO       Reno   8  256   \n",
       "1                Android v14  No FM Radio    Poco         X6  12  256   \n",
       "2  Memory Card Not Supported  Android v13  Xiaomi      Redmi   8  256   \n",
       "3                Android v14  No FM Radio    OPPO       Reno  12  256   \n",
       "4  Memory Card Not Supported  Android v13  Xiaomi      Redmi  12  256   \n",
       "\n",
       "  battery_capacity charging_speed  \n",
       "0             4800             67  \n",
       "1             5500             90  \n",
       "2             5000            120  \n",
       "3             4600             80  \n",
       "4             5200            120  "
      ]
     },
     "execution_count": 39,
     "metadata": {},
     "output_type": "execute_result"
    }
   ],
   "source": [
    "df.head()"
   ]
  },
  {
   "cell_type": "code",
   "execution_count": 40,
   "id": "1c890b1b",
   "metadata": {},
   "outputs": [],
   "source": [
    "df.drop(columns=['battery','storage'],inplace = True)"
   ]
  },
  {
   "cell_type": "code",
   "execution_count": 41,
   "id": "15b1b2a3",
   "metadata": {},
   "outputs": [
    {
     "data": {
      "text/html": [
       "<div>\n",
       "<style scoped>\n",
       "    .dataframe tbody tr th:only-of-type {\n",
       "        vertical-align: middle;\n",
       "    }\n",
       "\n",
       "    .dataframe tbody tr th {\n",
       "        vertical-align: top;\n",
       "    }\n",
       "\n",
       "    .dataframe thead th {\n",
       "        text-align: right;\n",
       "    }\n",
       "</style>\n",
       "<table border=\"1\" class=\"dataframe\">\n",
       "  <thead>\n",
       "    <tr style=\"text-align: right;\">\n",
       "      <th></th>\n",
       "      <th>price</th>\n",
       "      <th>rating</th>\n",
       "      <th>specs_score</th>\n",
       "      <th>connectivity</th>\n",
       "      <th>processor</th>\n",
       "      <th>display</th>\n",
       "      <th>camera</th>\n",
       "      <th>extra_storage</th>\n",
       "      <th>os</th>\n",
       "      <th>brand</th>\n",
       "      <th>model_name</th>\n",
       "      <th>RAM</th>\n",
       "      <th>ROM</th>\n",
       "      <th>battery_capacity</th>\n",
       "      <th>charging_speed</th>\n",
       "    </tr>\n",
       "  </thead>\n",
       "  <tbody>\n",
       "    <tr>\n",
       "      <th>0</th>\n",
       "      <td>29,990</td>\n",
       "      <td>4.70</td>\n",
       "      <td>86.0</td>\n",
       "      <td>3G 4G 5G</td>\n",
       "      <td>Dimensity 8200</td>\n",
       "      <td>6.7 inches, 1080 x 2412 px, 120 Hz Display wit...</td>\n",
       "      <td>50 MP + 32 MP + 8 MP Triple Rear &amp; 32 MP Front...</td>\n",
       "      <td>Android v14</td>\n",
       "      <td>No FM Radio</td>\n",
       "      <td>OPPO</td>\n",
       "      <td>Reno</td>\n",
       "      <td>8</td>\n",
       "      <td>256</td>\n",
       "      <td>4800</td>\n",
       "      <td>67</td>\n",
       "    </tr>\n",
       "    <tr>\n",
       "      <th>1</th>\n",
       "      <td>19,999</td>\n",
       "      <td>4.50</td>\n",
       "      <td>84.0</td>\n",
       "      <td>3G 4G 5G</td>\n",
       "      <td>Dimensity 8300 Ultra</td>\n",
       "      <td>6.67 inches, 1220 x 2712 px, 120 Hz Display wi...</td>\n",
       "      <td>64 MP + 8 MP + 2 MP Triple Rear &amp; 16 MP Front ...</td>\n",
       "      <td>Android v14</td>\n",
       "      <td>No FM Radio</td>\n",
       "      <td>Poco</td>\n",
       "      <td>X6</td>\n",
       "      <td>12</td>\n",
       "      <td>256</td>\n",
       "      <td>5500</td>\n",
       "      <td>90</td>\n",
       "    </tr>\n",
       "    <tr>\n",
       "      <th>2</th>\n",
       "      <td>31,999</td>\n",
       "      <td>4.35</td>\n",
       "      <td>87.0</td>\n",
       "      <td>3G 4G 5G</td>\n",
       "      <td>Dimensity 7200 Ultra</td>\n",
       "      <td>6.67 inches, 1220 x 2712 px, 120 Hz Display wi...</td>\n",
       "      <td>200 MP + 8 MP + 2 MP Triple Rear &amp; 16 MP Front...</td>\n",
       "      <td>Memory Card Not Supported</td>\n",
       "      <td>Android v13</td>\n",
       "      <td>Xiaomi</td>\n",
       "      <td>Redmi</td>\n",
       "      <td>8</td>\n",
       "      <td>256</td>\n",
       "      <td>5000</td>\n",
       "      <td>120</td>\n",
       "    </tr>\n",
       "    <tr>\n",
       "      <th>3</th>\n",
       "      <td>40,990</td>\n",
       "      <td>4.75</td>\n",
       "      <td>88.0</td>\n",
       "      <td>3G 4G 5G</td>\n",
       "      <td>Dimensity 8200</td>\n",
       "      <td>6.74 inches, 1240 x 2772 px, 120 Hz Display wi...</td>\n",
       "      <td>50 MP + 32 MP + 8 MP Triple Rear &amp; 32 MP Front...</td>\n",
       "      <td>Android v14</td>\n",
       "      <td>No FM Radio</td>\n",
       "      <td>OPPO</td>\n",
       "      <td>Reno</td>\n",
       "      <td>12</td>\n",
       "      <td>256</td>\n",
       "      <td>4600</td>\n",
       "      <td>80</td>\n",
       "    </tr>\n",
       "    <tr>\n",
       "      <th>4</th>\n",
       "      <td>33,999</td>\n",
       "      <td>4.00</td>\n",
       "      <td>87.0</td>\n",
       "      <td>3G 4G 5G</td>\n",
       "      <td>Snapdragon 7 Gen1</td>\n",
       "      <td>6.67 inches, 1220 x 2712 px, 144 Hz Display wi...</td>\n",
       "      <td>200 MP + 13 MP + 8 MP Triple Rear &amp; 32 MP Fron...</td>\n",
       "      <td>Memory Card Not Supported</td>\n",
       "      <td>Android v13</td>\n",
       "      <td>Xiaomi</td>\n",
       "      <td>Redmi</td>\n",
       "      <td>12</td>\n",
       "      <td>256</td>\n",
       "      <td>5200</td>\n",
       "      <td>120</td>\n",
       "    </tr>\n",
       "  </tbody>\n",
       "</table>\n",
       "</div>"
      ],
      "text/plain": [
       "    price  rating  specs_score connectivity             processor  \\\n",
       "0  29,990    4.70         86.0     3G 4G 5G        Dimensity 8200   \n",
       "1  19,999    4.50         84.0     3G 4G 5G  Dimensity 8300 Ultra   \n",
       "2  31,999    4.35         87.0     3G 4G 5G  Dimensity 7200 Ultra   \n",
       "3  40,990    4.75         88.0     3G 4G 5G        Dimensity 8200   \n",
       "4  33,999    4.00         87.0     3G 4G 5G     Snapdragon 7 Gen1   \n",
       "\n",
       "                                             display  \\\n",
       "0  6.7 inches, 1080 x 2412 px, 120 Hz Display wit...   \n",
       "1  6.67 inches, 1220 x 2712 px, 120 Hz Display wi...   \n",
       "2  6.67 inches, 1220 x 2712 px, 120 Hz Display wi...   \n",
       "3  6.74 inches, 1240 x 2772 px, 120 Hz Display wi...   \n",
       "4  6.67 inches, 1220 x 2712 px, 144 Hz Display wi...   \n",
       "\n",
       "                                              camera  \\\n",
       "0  50 MP + 32 MP + 8 MP Triple Rear & 32 MP Front...   \n",
       "1  64 MP + 8 MP + 2 MP Triple Rear & 16 MP Front ...   \n",
       "2  200 MP + 8 MP + 2 MP Triple Rear & 16 MP Front...   \n",
       "3  50 MP + 32 MP + 8 MP Triple Rear & 32 MP Front...   \n",
       "4  200 MP + 13 MP + 8 MP Triple Rear & 32 MP Fron...   \n",
       "\n",
       "               extra_storage           os   brand model_name RAM  ROM  \\\n",
       "0                Android v14  No FM Radio    OPPO       Reno   8  256   \n",
       "1                Android v14  No FM Radio    Poco         X6  12  256   \n",
       "2  Memory Card Not Supported  Android v13  Xiaomi      Redmi   8  256   \n",
       "3                Android v14  No FM Radio    OPPO       Reno  12  256   \n",
       "4  Memory Card Not Supported  Android v13  Xiaomi      Redmi  12  256   \n",
       "\n",
       "  battery_capacity charging_speed  \n",
       "0             4800             67  \n",
       "1             5500             90  \n",
       "2             5000            120  \n",
       "3             4600             80  \n",
       "4             5200            120  "
      ]
     },
     "execution_count": 41,
     "metadata": {},
     "output_type": "execute_result"
    }
   ],
   "source": [
    "df.head()"
   ]
  },
  {
   "cell_type": "code",
   "execution_count": 42,
   "id": "a2fb8dbd",
   "metadata": {},
   "outputs": [
    {
     "data": {
      "text/plain": [
       "'6.79 inches'"
      ]
     },
     "execution_count": 42,
     "metadata": {},
     "output_type": "execute_result"
    }
   ],
   "source": [
    "df['display'][43].split(',')[0]"
   ]
  },
  {
   "cell_type": "code",
   "execution_count": 43,
   "id": "93d875a1",
   "metadata": {},
   "outputs": [],
   "source": [
    "df['display_size'] = df['display'].apply(lambda x: x.split('inches')[0])"
   ]
  },
  {
   "cell_type": "code",
   "execution_count": 44,
   "id": "c0be9707",
   "metadata": {},
   "outputs": [],
   "source": [
    "df['display_hz'] = df['display'].str.extract(r\"(\\d+)\\s*Hz\")"
   ]
  },
  {
   "cell_type": "code",
   "execution_count": 45,
   "id": "fb25b0d1",
   "metadata": {},
   "outputs": [
    {
     "data": {
      "text/plain": [
       "'50\\u2009MP + 32\\u2009MP + 8\\u2009MP Triple Rear & 32\\u2009MP Front Camera'"
      ]
     },
     "execution_count": 45,
     "metadata": {},
     "output_type": "execute_result"
    }
   ],
   "source": [
    "df['camera'][0]"
   ]
  },
  {
   "cell_type": "code",
   "execution_count": 46,
   "id": "ed7761f6",
   "metadata": {},
   "outputs": [],
   "source": [
    "df['rear_cameras'] = df['camera'].str.extract(r'(.+?MP(?: \\+ .+?MP)*)\\s+\\w+\\s+Rear')\n",
    "df['front_camera'] = df['camera'].str.extract(r'(\\d+)\\s*MP Front')"
   ]
  },
  {
   "cell_type": "code",
   "execution_count": 47,
   "id": "8cb1bf6f",
   "metadata": {},
   "outputs": [],
   "source": [
    "df.drop(columns = ['display','camera'],inplace = True)"
   ]
  },
  {
   "cell_type": "code",
   "execution_count": 48,
   "id": "5c0575a0",
   "metadata": {},
   "outputs": [
    {
     "data": {
      "text/html": [
       "<div>\n",
       "<style scoped>\n",
       "    .dataframe tbody tr th:only-of-type {\n",
       "        vertical-align: middle;\n",
       "    }\n",
       "\n",
       "    .dataframe tbody tr th {\n",
       "        vertical-align: top;\n",
       "    }\n",
       "\n",
       "    .dataframe thead th {\n",
       "        text-align: right;\n",
       "    }\n",
       "</style>\n",
       "<table border=\"1\" class=\"dataframe\">\n",
       "  <thead>\n",
       "    <tr style=\"text-align: right;\">\n",
       "      <th></th>\n",
       "      <th>price</th>\n",
       "      <th>rating</th>\n",
       "      <th>specs_score</th>\n",
       "      <th>connectivity</th>\n",
       "      <th>processor</th>\n",
       "      <th>extra_storage</th>\n",
       "      <th>os</th>\n",
       "      <th>brand</th>\n",
       "      <th>model_name</th>\n",
       "      <th>RAM</th>\n",
       "      <th>ROM</th>\n",
       "      <th>battery_capacity</th>\n",
       "      <th>charging_speed</th>\n",
       "      <th>display_size</th>\n",
       "      <th>display_hz</th>\n",
       "      <th>rear_cameras</th>\n",
       "      <th>front_camera</th>\n",
       "    </tr>\n",
       "  </thead>\n",
       "  <tbody>\n",
       "    <tr>\n",
       "      <th>0</th>\n",
       "      <td>29,990</td>\n",
       "      <td>4.70</td>\n",
       "      <td>86.0</td>\n",
       "      <td>3G 4G 5G</td>\n",
       "      <td>Dimensity 8200</td>\n",
       "      <td>Android v14</td>\n",
       "      <td>No FM Radio</td>\n",
       "      <td>OPPO</td>\n",
       "      <td>Reno</td>\n",
       "      <td>8</td>\n",
       "      <td>256</td>\n",
       "      <td>4800</td>\n",
       "      <td>67</td>\n",
       "      <td>6.7</td>\n",
       "      <td>120</td>\n",
       "      <td>50 MP + 32 MP + 8 MP</td>\n",
       "      <td>32</td>\n",
       "    </tr>\n",
       "    <tr>\n",
       "      <th>1</th>\n",
       "      <td>19,999</td>\n",
       "      <td>4.50</td>\n",
       "      <td>84.0</td>\n",
       "      <td>3G 4G 5G</td>\n",
       "      <td>Dimensity 8300 Ultra</td>\n",
       "      <td>Android v14</td>\n",
       "      <td>No FM Radio</td>\n",
       "      <td>Poco</td>\n",
       "      <td>X6</td>\n",
       "      <td>12</td>\n",
       "      <td>256</td>\n",
       "      <td>5500</td>\n",
       "      <td>90</td>\n",
       "      <td>6.67</td>\n",
       "      <td>120</td>\n",
       "      <td>64 MP + 8 MP + 2 MP</td>\n",
       "      <td>16</td>\n",
       "    </tr>\n",
       "    <tr>\n",
       "      <th>2</th>\n",
       "      <td>31,999</td>\n",
       "      <td>4.35</td>\n",
       "      <td>87.0</td>\n",
       "      <td>3G 4G 5G</td>\n",
       "      <td>Dimensity 7200 Ultra</td>\n",
       "      <td>Memory Card Not Supported</td>\n",
       "      <td>Android v13</td>\n",
       "      <td>Xiaomi</td>\n",
       "      <td>Redmi</td>\n",
       "      <td>8</td>\n",
       "      <td>256</td>\n",
       "      <td>5000</td>\n",
       "      <td>120</td>\n",
       "      <td>6.67</td>\n",
       "      <td>120</td>\n",
       "      <td>200 MP + 8 MP + 2 MP</td>\n",
       "      <td>16</td>\n",
       "    </tr>\n",
       "    <tr>\n",
       "      <th>3</th>\n",
       "      <td>40,990</td>\n",
       "      <td>4.75</td>\n",
       "      <td>88.0</td>\n",
       "      <td>3G 4G 5G</td>\n",
       "      <td>Dimensity 8200</td>\n",
       "      <td>Android v14</td>\n",
       "      <td>No FM Radio</td>\n",
       "      <td>OPPO</td>\n",
       "      <td>Reno</td>\n",
       "      <td>12</td>\n",
       "      <td>256</td>\n",
       "      <td>4600</td>\n",
       "      <td>80</td>\n",
       "      <td>6.74</td>\n",
       "      <td>120</td>\n",
       "      <td>50 MP + 32 MP + 8 MP</td>\n",
       "      <td>32</td>\n",
       "    </tr>\n",
       "    <tr>\n",
       "      <th>4</th>\n",
       "      <td>33,999</td>\n",
       "      <td>4.00</td>\n",
       "      <td>87.0</td>\n",
       "      <td>3G 4G 5G</td>\n",
       "      <td>Snapdragon 7 Gen1</td>\n",
       "      <td>Memory Card Not Supported</td>\n",
       "      <td>Android v13</td>\n",
       "      <td>Xiaomi</td>\n",
       "      <td>Redmi</td>\n",
       "      <td>12</td>\n",
       "      <td>256</td>\n",
       "      <td>5200</td>\n",
       "      <td>120</td>\n",
       "      <td>6.67</td>\n",
       "      <td>144</td>\n",
       "      <td>200 MP + 13 MP + 8 MP</td>\n",
       "      <td>32</td>\n",
       "    </tr>\n",
       "  </tbody>\n",
       "</table>\n",
       "</div>"
      ],
      "text/plain": [
       "    price  rating  specs_score connectivity             processor  \\\n",
       "0  29,990    4.70         86.0     3G 4G 5G        Dimensity 8200   \n",
       "1  19,999    4.50         84.0     3G 4G 5G  Dimensity 8300 Ultra   \n",
       "2  31,999    4.35         87.0     3G 4G 5G  Dimensity 7200 Ultra   \n",
       "3  40,990    4.75         88.0     3G 4G 5G        Dimensity 8200   \n",
       "4  33,999    4.00         87.0     3G 4G 5G     Snapdragon 7 Gen1   \n",
       "\n",
       "               extra_storage           os   brand model_name RAM  ROM  \\\n",
       "0                Android v14  No FM Radio    OPPO       Reno   8  256   \n",
       "1                Android v14  No FM Radio    Poco         X6  12  256   \n",
       "2  Memory Card Not Supported  Android v13  Xiaomi      Redmi   8  256   \n",
       "3                Android v14  No FM Radio    OPPO       Reno  12  256   \n",
       "4  Memory Card Not Supported  Android v13  Xiaomi      Redmi  12  256   \n",
       "\n",
       "  battery_capacity charging_speed display_size display_hz  \\\n",
       "0             4800             67         6.7         120   \n",
       "1             5500             90        6.67         120   \n",
       "2             5000            120        6.67         120   \n",
       "3             4600             80        6.74         120   \n",
       "4             5200            120        6.67         144   \n",
       "\n",
       "            rear_cameras front_camera  \n",
       "0   50 MP + 32 MP + 8 MP           32  \n",
       "1    64 MP + 8 MP + 2 MP           16  \n",
       "2   200 MP + 8 MP + 2 MP           16  \n",
       "3   50 MP + 32 MP + 8 MP           32  \n",
       "4  200 MP + 13 MP + 8 MP           32  "
      ]
     },
     "execution_count": 48,
     "metadata": {},
     "output_type": "execute_result"
    }
   ],
   "source": [
    "df.head()"
   ]
  },
  {
   "cell_type": "code",
   "execution_count": 49,
   "id": "02de2431",
   "metadata": {},
   "outputs": [
    {
     "name": "stdout",
     "output_type": "stream",
     "text": [
      "<class 'pandas.core.frame.DataFrame'>\n",
      "RangeIndex: 1020 entries, 0 to 1019\n",
      "Data columns (total 17 columns):\n",
      " #   Column            Non-Null Count  Dtype  \n",
      "---  ------            --------------  -----  \n",
      " 0   price             1020 non-null   object \n",
      " 1   rating            1020 non-null   float64\n",
      " 2   specs_score       865 non-null    float64\n",
      " 3   connectivity      1020 non-null   object \n",
      " 4   processor         1020 non-null   object \n",
      " 5   extra_storage     1017 non-null   object \n",
      " 6   os                1009 non-null   object \n",
      " 7   brand             1020 non-null   object \n",
      " 8   model_name        1020 non-null   object \n",
      " 9   RAM               1020 non-null   object \n",
      " 10  ROM               982 non-null    object \n",
      " 11  battery_capacity  1002 non-null   object \n",
      " 12  charging_speed    876 non-null    object \n",
      " 13  display_size      1020 non-null   object \n",
      " 14  display_hz        784 non-null    object \n",
      " 15  rear_cameras      893 non-null    object \n",
      " 16  front_camera      927 non-null    object \n",
      "dtypes: float64(2), object(15)\n",
      "memory usage: 135.6+ KB\n"
     ]
    }
   ],
   "source": [
    "df.info()"
   ]
  },
  {
   "cell_type": "code",
   "execution_count": 50,
   "id": "a92a5803",
   "metadata": {},
   "outputs": [
    {
     "data": {
      "text/plain": [
       "price                 0\n",
       "rating                0\n",
       "specs_score         155\n",
       "connectivity          0\n",
       "processor             0\n",
       "extra_storage         3\n",
       "os                   11\n",
       "brand                 0\n",
       "model_name            0\n",
       "RAM                   0\n",
       "ROM                  38\n",
       "battery_capacity     18\n",
       "charging_speed      144\n",
       "display_size          0\n",
       "display_hz          236\n",
       "rear_cameras        127\n",
       "front_camera         93\n",
       "dtype: int64"
      ]
     },
     "execution_count": 50,
     "metadata": {},
     "output_type": "execute_result"
    }
   ],
   "source": [
    "df.isnull().sum()"
   ]
  },
  {
   "cell_type": "code",
   "execution_count": 53,
   "id": "758a44ff",
   "metadata": {},
   "outputs": [],
   "source": [
    "# Filling columns where dtypes is object with mode(The most frequent value)\n",
    "for i in df.select_dtypes('object').columns:\n",
    "    df[i] = df[i].fillna(df[i].mode()[0])"
   ]
  },
  {
   "cell_type": "code",
   "execution_count": 54,
   "id": "97950ef5",
   "metadata": {},
   "outputs": [
    {
     "data": {
      "text/plain": [
       "price                 0\n",
       "rating                0\n",
       "specs_score         155\n",
       "connectivity          0\n",
       "processor             0\n",
       "extra_storage         0\n",
       "os                    0\n",
       "brand                 0\n",
       "model_name            0\n",
       "RAM                   0\n",
       "ROM                   0\n",
       "battery_capacity      0\n",
       "charging_speed        0\n",
       "display_size          0\n",
       "display_hz            0\n",
       "rear_cameras          0\n",
       "front_camera          0\n",
       "dtype: int64"
      ]
     },
     "execution_count": 54,
     "metadata": {},
     "output_type": "execute_result"
    }
   ],
   "source": [
    "df.isnull().sum()"
   ]
  },
  {
   "cell_type": "code",
   "execution_count": 55,
   "id": "2f73e4bf",
   "metadata": {},
   "outputs": [],
   "source": [
    "# Filling column with the mean value\n",
    "df['specs_score'] = df['specs_score'].fillna(df['specs_score'].mean())"
   ]
  },
  {
   "cell_type": "code",
   "execution_count": 56,
   "id": "5c78ae5c",
   "metadata": {},
   "outputs": [
    {
     "data": {
      "text/plain": [
       "price               0\n",
       "rating              0\n",
       "specs_score         0\n",
       "connectivity        0\n",
       "processor           0\n",
       "extra_storage       0\n",
       "os                  0\n",
       "brand               0\n",
       "model_name          0\n",
       "RAM                 0\n",
       "ROM                 0\n",
       "battery_capacity    0\n",
       "charging_speed      0\n",
       "display_size        0\n",
       "display_hz          0\n",
       "rear_cameras        0\n",
       "front_camera        0\n",
       "dtype: int64"
      ]
     },
     "execution_count": 56,
     "metadata": {},
     "output_type": "execute_result"
    }
   ],
   "source": [
    "df.isnull().sum()"
   ]
  },
  {
   "cell_type": "code",
   "execution_count": 57,
   "id": "356ac1be",
   "metadata": {},
   "outputs": [
    {
     "data": {
      "text/html": [
       "<div>\n",
       "<style scoped>\n",
       "    .dataframe tbody tr th:only-of-type {\n",
       "        vertical-align: middle;\n",
       "    }\n",
       "\n",
       "    .dataframe tbody tr th {\n",
       "        vertical-align: top;\n",
       "    }\n",
       "\n",
       "    .dataframe thead th {\n",
       "        text-align: right;\n",
       "    }\n",
       "</style>\n",
       "<table border=\"1\" class=\"dataframe\">\n",
       "  <thead>\n",
       "    <tr style=\"text-align: right;\">\n",
       "      <th></th>\n",
       "      <th>price</th>\n",
       "      <th>rating</th>\n",
       "      <th>specs_score</th>\n",
       "      <th>connectivity</th>\n",
       "      <th>processor</th>\n",
       "      <th>extra_storage</th>\n",
       "      <th>os</th>\n",
       "      <th>brand</th>\n",
       "      <th>model_name</th>\n",
       "      <th>RAM</th>\n",
       "      <th>ROM</th>\n",
       "      <th>battery_capacity</th>\n",
       "      <th>charging_speed</th>\n",
       "      <th>display_size</th>\n",
       "      <th>display_hz</th>\n",
       "      <th>rear_cameras</th>\n",
       "      <th>front_camera</th>\n",
       "    </tr>\n",
       "  </thead>\n",
       "  <tbody>\n",
       "    <tr>\n",
       "      <th>0</th>\n",
       "      <td>29,990</td>\n",
       "      <td>4.70</td>\n",
       "      <td>86.0</td>\n",
       "      <td>3G 4G 5G</td>\n",
       "      <td>Dimensity 8200</td>\n",
       "      <td>Android v14</td>\n",
       "      <td>No FM Radio</td>\n",
       "      <td>OPPO</td>\n",
       "      <td>Reno</td>\n",
       "      <td>8</td>\n",
       "      <td>256</td>\n",
       "      <td>4800</td>\n",
       "      <td>67</td>\n",
       "      <td>6.7</td>\n",
       "      <td>120</td>\n",
       "      <td>50 MP + 32 MP + 8 MP</td>\n",
       "      <td>32</td>\n",
       "    </tr>\n",
       "    <tr>\n",
       "      <th>1</th>\n",
       "      <td>19,999</td>\n",
       "      <td>4.50</td>\n",
       "      <td>84.0</td>\n",
       "      <td>3G 4G 5G</td>\n",
       "      <td>Dimensity 8300 Ultra</td>\n",
       "      <td>Android v14</td>\n",
       "      <td>No FM Radio</td>\n",
       "      <td>Poco</td>\n",
       "      <td>X6</td>\n",
       "      <td>12</td>\n",
       "      <td>256</td>\n",
       "      <td>5500</td>\n",
       "      <td>90</td>\n",
       "      <td>6.67</td>\n",
       "      <td>120</td>\n",
       "      <td>64 MP + 8 MP + 2 MP</td>\n",
       "      <td>16</td>\n",
       "    </tr>\n",
       "    <tr>\n",
       "      <th>2</th>\n",
       "      <td>31,999</td>\n",
       "      <td>4.35</td>\n",
       "      <td>87.0</td>\n",
       "      <td>3G 4G 5G</td>\n",
       "      <td>Dimensity 7200 Ultra</td>\n",
       "      <td>Memory Card Not Supported</td>\n",
       "      <td>Android v13</td>\n",
       "      <td>Xiaomi</td>\n",
       "      <td>Redmi</td>\n",
       "      <td>8</td>\n",
       "      <td>256</td>\n",
       "      <td>5000</td>\n",
       "      <td>120</td>\n",
       "      <td>6.67</td>\n",
       "      <td>120</td>\n",
       "      <td>200 MP + 8 MP + 2 MP</td>\n",
       "      <td>16</td>\n",
       "    </tr>\n",
       "    <tr>\n",
       "      <th>3</th>\n",
       "      <td>40,990</td>\n",
       "      <td>4.75</td>\n",
       "      <td>88.0</td>\n",
       "      <td>3G 4G 5G</td>\n",
       "      <td>Dimensity 8200</td>\n",
       "      <td>Android v14</td>\n",
       "      <td>No FM Radio</td>\n",
       "      <td>OPPO</td>\n",
       "      <td>Reno</td>\n",
       "      <td>12</td>\n",
       "      <td>256</td>\n",
       "      <td>4600</td>\n",
       "      <td>80</td>\n",
       "      <td>6.74</td>\n",
       "      <td>120</td>\n",
       "      <td>50 MP + 32 MP + 8 MP</td>\n",
       "      <td>32</td>\n",
       "    </tr>\n",
       "    <tr>\n",
       "      <th>4</th>\n",
       "      <td>33,999</td>\n",
       "      <td>4.00</td>\n",
       "      <td>87.0</td>\n",
       "      <td>3G 4G 5G</td>\n",
       "      <td>Snapdragon 7 Gen1</td>\n",
       "      <td>Memory Card Not Supported</td>\n",
       "      <td>Android v13</td>\n",
       "      <td>Xiaomi</td>\n",
       "      <td>Redmi</td>\n",
       "      <td>12</td>\n",
       "      <td>256</td>\n",
       "      <td>5200</td>\n",
       "      <td>120</td>\n",
       "      <td>6.67</td>\n",
       "      <td>144</td>\n",
       "      <td>200 MP + 13 MP + 8 MP</td>\n",
       "      <td>32</td>\n",
       "    </tr>\n",
       "  </tbody>\n",
       "</table>\n",
       "</div>"
      ],
      "text/plain": [
       "    price  rating  specs_score connectivity             processor  \\\n",
       "0  29,990    4.70         86.0     3G 4G 5G        Dimensity 8200   \n",
       "1  19,999    4.50         84.0     3G 4G 5G  Dimensity 8300 Ultra   \n",
       "2  31,999    4.35         87.0     3G 4G 5G  Dimensity 7200 Ultra   \n",
       "3  40,990    4.75         88.0     3G 4G 5G        Dimensity 8200   \n",
       "4  33,999    4.00         87.0     3G 4G 5G     Snapdragon 7 Gen1   \n",
       "\n",
       "               extra_storage           os   brand model_name RAM  ROM  \\\n",
       "0                Android v14  No FM Radio    OPPO       Reno   8  256   \n",
       "1                Android v14  No FM Radio    Poco         X6  12  256   \n",
       "2  Memory Card Not Supported  Android v13  Xiaomi      Redmi   8  256   \n",
       "3                Android v14  No FM Radio    OPPO       Reno  12  256   \n",
       "4  Memory Card Not Supported  Android v13  Xiaomi      Redmi  12  256   \n",
       "\n",
       "  battery_capacity charging_speed display_size display_hz  \\\n",
       "0             4800             67         6.7         120   \n",
       "1             5500             90        6.67         120   \n",
       "2             5000            120        6.67         120   \n",
       "3             4600             80        6.74         120   \n",
       "4             5200            120        6.67         144   \n",
       "\n",
       "            rear_cameras front_camera  \n",
       "0   50 MP + 32 MP + 8 MP           32  \n",
       "1    64 MP + 8 MP + 2 MP           16  \n",
       "2   200 MP + 8 MP + 2 MP           16  \n",
       "3   50 MP + 32 MP + 8 MP           32  \n",
       "4  200 MP + 13 MP + 8 MP           32  "
      ]
     },
     "execution_count": 57,
     "metadata": {},
     "output_type": "execute_result"
    }
   ],
   "source": [
    "df.head()"
   ]
  },
  {
   "cell_type": "code",
   "execution_count": 58,
   "id": "fc34bfcc",
   "metadata": {},
   "outputs": [],
   "source": [
    "df['price'] = df['price'].replace('[^0-9]', '', regex=True)\n",
    "df['price'] = pd.to_numeric(df['price'], errors='coerce')"
   ]
  },
  {
   "cell_type": "code",
   "execution_count": 59,
   "id": "56068549",
   "metadata": {},
   "outputs": [],
   "source": [
    "columns_to_convert = ['RAM', 'ROM', 'battery_capacity', 'charging_speed', 'display_hz' ,'front_camera']\n",
    "for col in columns_to_convert:\n",
    "    df[col] = pd.to_numeric(df[col],errors='coerce')"
   ]
  },
  {
   "cell_type": "code",
   "execution_count": 60,
   "id": "e52310de",
   "metadata": {},
   "outputs": [],
   "source": [
    "df['display_size'] = pd.to_numeric(df['display_size'], errors='coerce')"
   ]
  },
  {
   "cell_type": "code",
   "execution_count": 61,
   "id": "c977898a",
   "metadata": {},
   "outputs": [
    {
     "data": {
      "text/plain": [
       "price                0\n",
       "rating               0\n",
       "specs_score          0\n",
       "connectivity         0\n",
       "processor            0\n",
       "extra_storage        0\n",
       "os                   0\n",
       "brand                0\n",
       "model_name           0\n",
       "RAM                  5\n",
       "ROM                  0\n",
       "battery_capacity     0\n",
       "charging_speed       0\n",
       "display_size        18\n",
       "display_hz           0\n",
       "rear_cameras         0\n",
       "front_camera         0\n",
       "dtype: int64"
      ]
     },
     "execution_count": 61,
     "metadata": {},
     "output_type": "execute_result"
    }
   ],
   "source": [
    "df.isna().sum()"
   ]
  },
  {
   "cell_type": "code",
   "execution_count": 62,
   "id": "c6eb766a",
   "metadata": {},
   "outputs": [],
   "source": [
    "df['RAM'] = df['RAM'].fillna(df['RAM'].mean())"
   ]
  },
  {
   "cell_type": "markdown",
   "id": "d447f2ce",
   "metadata": {},
   "source": [
    "### Data Visualisation"
   ]
  },
  {
   "cell_type": "code",
   "execution_count": 65,
   "id": "54a68962",
   "metadata": {},
   "outputs": [
    {
     "data": {
      "text/plain": [
       "brand\n",
       "Samsung      131\n",
       "Xiaomi       124\n",
       "Vivo         116\n",
       "Realme        87\n",
       "Motorola      55\n",
       "OnePlus       53\n",
       "OPPO          44\n",
       "Poco          39\n",
       "Tecno         39\n",
       "Apple         39\n",
       "Infinix       37\n",
       "iQOO          36\n",
       "Honor         27\n",
       "Nokia         26\n",
       "Oppo          21\n",
       "itel          17\n",
       "Lava          16\n",
       "Nubia         16\n",
       "Google        12\n",
       "Asus          11\n",
       "Sony           8\n",
       "Jio            7\n",
       "Nothing        7\n",
       "Itel           6\n",
       "Huawei         5\n",
       "Meizu          5\n",
       "iKall          5\n",
       "POCO           3\n",
       "Snexian        3\n",
       "Duoqin         2\n",
       "Blackview      2\n",
       "Redmi          2\n",
       "Ulefone        2\n",
       "BlackZone      1\n",
       "JIo            1\n",
       "Tesla          1\n",
       "Gionee         1\n",
       "Letv           1\n",
       "Namotel        1\n",
       "Solana         1\n",
       "MTR            1\n",
       "LG             1\n",
       "Docoss         1\n",
       "Oukitel        1\n",
       "Doogee         1\n",
       "Cellecor       1\n",
       "Fairphone      1\n",
       "Unihertz       1\n",
       "HTC            1\n",
       "ZTE            1\n",
       "Name: count, dtype: int64"
      ]
     },
     "execution_count": 65,
     "metadata": {},
     "output_type": "execute_result"
    }
   ],
   "source": [
    "df['brand'].value_counts()"
   ]
  },
  {
   "cell_type": "code",
   "execution_count": 64,
   "id": "fd72fe4d",
   "metadata": {},
   "outputs": [
    {
     "data": {
      "image/png": "[encoded data removed]",
      "text/plain": [
       "<Figure size 1100x800 with 1 Axes>"
      ]
     },
     "metadata": {},
     "output_type": "display_data"
    }
   ],
   "source": [
    "plt.figure(figsize=(11,8))\n",
    "sns.countplot(x='brand', data=df)\n",
    "plt.xticks(rotation = 90)\n",
    "plt.tight_layout()\n",
    "plt.show()"
   ]
  },
  {
   "cell_type": "code",
   "execution_count": 67,
   "id": "61d3fbcb",
   "metadata": {},
   "outputs": [
    {
     "data": {
      "image/png": "[encoded data removed]",
      "text/plain": [
       "<Figure size 1000x500 with 1 Axes>"
      ]
     },
     "metadata": {},
     "output_type": "display_data"
    },
    {
     "data": {
      "image/png": "[encoded data removed]",
      "text/plain": [
       "<Figure size 1000x500 with 1 Axes>"
      ]
     },
     "metadata": {},
     "output_type": "display_data"
    }
   ],
   "source": [
    "plt.figure(figsize=(10,5))\n",
    "sns.barplot(x = 'RAM' , y = 'price',data = df)\n",
    "plt.xticks(rotation=90)\n",
    "plt.show()\n",
    "\n",
    "plt.figure(figsize=(10,5))\n",
    "sns.barplot(x = 'ROM' , y = 'price',data = df)\n",
    "plt.xticks(rotation=90)\n",
    "plt.show()"
   ]
  },
  {
   "cell_type": "code",
   "execution_count": 68,
   "id": "2dd0be9f",
   "metadata": {},
   "outputs": [],
   "source": [
    "import plotly.express as px"
   ]
  },
  {
   "cell_type": "code",
   "execution_count": 69,
   "id": "0dc39c54",
   "metadata": {},
   "outputs": [
    {
     "data": {
      "application/vnd.plotly.v1+json": {
       "config": {
        "plotlyServerURL": "https://plot.ly"
       },
       "data": [
        {
         "hovertemplate": "Storage=256<br>RAM (GB)=%{x}<br>Price (INR)=%{y}<extra></extra>",
         "legendgroup": "",
         "marker": {
          "color": "#636efa",
          "symbol": "circle"
         },
         "mode": "markers",
         "name": "",
         "orientation": "v",
         "showlegend": false,
         "type": "scatter",
         "x": {
          "bdata": "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",
          "dtype": "f8"
         },
         "xaxis": "x",
         "y": {
          "bdata": "JnUAAB9OAAD/fAAAHqAAAM+EAAA/nAAAbxEBAJaMAAC21AEA//kAAH8+AABuaQAAd2kAAI9lAACXOgAATpgAAB9OAAAHzwAAp2EAAKJ6AQCnYQAA7qcAAOeAAAA3SgAAozgAAM+EAAA+6AEAgzsAAF/qAACPXwEA/s4AAChTAAAXeQAAloYBADYZAQBvlAAA71UAAK82AACeYQAAH04AAN79AACDHAAA/s4AAL9dAAA2nAAATpgAAORkAgDHMgAAz4QAAPpLAADvVQAAL3UAAD5xAAAvdQAAX20AAJaMAAAvdQAAX20AAG8RAQCnYQAAE5sAAK82AABmEQEAMnMAAG5pAADGhAAA41cAAE6YAAC+rwAASxcBAJqvAQAHTAEAJJAAAD+cAACe3gAA19YAAFBkAAC7NAAA7iQBAGyEAAAXcwEA2O8AANdZAACe3gAAp2EAANdZAABPRgAAH0gBAK6IAAAvdQAAH04AAHY+AABfbQAA7qcAAL9dAADGhAAAv10AADdKAACGXwEAL3UAAH8+AAC22gAA7qEBAEdxAAA+cQAARsMAALy+AgBPwwAA5lUAAE9GAADmbgAAe5IAAChtAACGXwEAfpAAAFcrAADe/QAA41cAAFZtAAC/XQAAxzIAAPenAAAHUgAAn4wAAKKKAAC2XQAAfz4AAKdhAACeYQAAx68AAN79AAAOcwEAL/IAAMevAAA2nAAA9nwAAAdMAQA/nAAAbxEBAAdMAQBGwwAAR2sBADdEAQAmdQAAttoAAMcyAAA2nAAAF3kAAM7WAAAmdQAA+D4AAF/qAADfLgAAFr8CAD+cAAB3XQIAL3UAABf2AABHawEAhl8BAK6IAAC2XQAARsMAAG8RAQD/fAAAK0wAAKKKAACuiAAAGdIAAIZfAQBPvQEAL3UAAK6IAADPhAAAThUBAEdxAACHkAAAxoQAAAfNAAC2XQAAB1IAAGc8AQAWTgAALkoAAE9GAABfbQAAn4YBAIcNAQDWpQEAf7sAAB/LAAAuSgAAprMAACbsAQAnHQEAnmEAACZ1AABvlAAAjrcAAHY4AQB2OAEADYYAAM7WAAAAUwcAxvsBAFbqAAC+JgIAp2EAAC91AADfqwAAWFUAAF9tAAAuwQEAttoAAAJSAAD3KgAAnmEAAJ7eAABH7gAAF3kAADYZAQB2OAEA2WcAAH84AQCDZwAA9yoAADacAAC3iAAAhmUAAPenAACGXwEAVuoAAJaGAQBmEQEAprMAAB9OAAC/XQAAD6QAAE9AAQCfjAAAbxEBAFNvAAAnmgEAl7cAADacAABHcQAAbmkAAJ+MAABPwwAAnmEAAN6AAAC3iAAAnmEAAIZfAQAfTgAAE1AAACZ1AACWCQEAxzIAAKpfAACDZwAAP5wAAIZfAQBPwwAAB1IAABdzAQDe/QAATpgAAG5pAAA+cQAAWq8AAK+zAAAOcwEAp2EAAO6hAQBH6AEARsMAAM5ZAABuaQAAVw8CADfHAACGZQAAtl0AAGYRAQBW6gAARsMAAI9lAABGwwAAN0QBAL9dAACvNgAA9vkAAP9wAgDsLAAA1iICAOf9AABc1AEA1qsAAKM4AACmswAAztYAAJaMAABW6gAAztYAAEbDAAC+rwAAh5AAAD5xAADO1gAAt4gAAC4+AgCeYQAAp2EAACZ1AAC3iAAAV5IBAD+cAADupwAAPu4AAG5pAAAXcwEAz4QAAN6AAADngAAAdjgBAD8ZAQCbYwAApq0BAA==",
          "dtype": "i4"
         },
         "yaxis": "y"
        }
       ],
       "frames": [
        {
         "data": [
          {
           "hovertemplate": "Storage=256<br>RAM (GB)=%{x}<br>Price (INR)=%{y}<extra></extra>",
           "legendgroup": "",
           "marker": {
            "color": "#636efa",
            "symbol": "circle"
           },
           "mode": "markers",
           "name": "",
           "orientation": "v",
           "showlegend": false,
           "type": "scatter",
           "x": {
            "bdata": "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",
            "dtype": "f8"
           },
           "xaxis": "x",
           "y": {
            "bdata": "JnUAAB9OAAD/fAAAHqAAAM+EAAA/nAAAbxEBAJaMAAC21AEA//kAAH8+AABuaQAAd2kAAI9lAACXOgAATpgAAB9OAAAHzwAAp2EAAKJ6AQCnYQAA7qcAAOeAAAA3SgAAozgAAM+EAAA+6AEAgzsAAF/qAACPXwEA/s4AAChTAAAXeQAAloYBADYZAQBvlAAA71UAAK82AACeYQAAH04AAN79AACDHAAA/s4AAL9dAAA2nAAATpgAAORkAgDHMgAAz4QAAPpLAADvVQAAL3UAAD5xAAAvdQAAX20AAJaMAAAvdQAAX20AAG8RAQCnYQAAE5sAAK82AABmEQEAMnMAAG5pAADGhAAA41cAAE6YAAC+rwAASxcBAJqvAQAHTAEAJJAAAD+cAACe3gAA19YAAFBkAAC7NAAA7iQBAGyEAAAXcwEA2O8AANdZAACe3gAAp2EAANdZAABPRgAAH0gBAK6IAAAvdQAAH04AAHY+AABfbQAA7qcAAL9dAADGhAAAv10AADdKAACGXwEAL3UAAH8+AAC22gAA7qEBAEdxAAA+cQAARsMAALy+AgBPwwAA5lUAAE9GAADmbgAAe5IAAChtAACGXwEAfpAAAFcrAADe/QAA41cAAFZtAAC/XQAAxzIAAPenAAAHUgAAn4wAAKKKAAC2XQAAfz4AAKdhAACeYQAAx68AAN79AAAOcwEAL/IAAMevAAA2nAAA9nwAAAdMAQA/nAAAbxEBAAdMAQBGwwAAR2sBADdEAQAmdQAAttoAAMcyAAA2nAAAF3kAAM7WAAAmdQAA+D4AAF/qAADfLgAAFr8CAD+cAAB3XQIAL3UAABf2AABHawEAhl8BAK6IAAC2XQAARsMAAG8RAQD/fAAAK0wAAKKKAACuiAAAGdIAAIZfAQBPvQEAL3UAAK6IAADPhAAAThUBAEdxAACHkAAAxoQAAAfNAAC2XQAAB1IAAGc8AQAWTgAALkoAAE9GAABfbQAAn4YBAIcNAQDWpQEAf7sAAB/LAAAuSgAAprMAACbsAQAnHQEAnmEAACZ1AABvlAAAjrcAAHY4AQB2OAEADYYAAM7WAAAAUwcAxvsBAFbqAAC+JgIAp2EAAC91AADfqwAAWFUAAF9tAAAuwQEAttoAAAJSAAD3KgAAnmEAAJ7eAABH7gAAF3kAADYZAQB2OAEA2WcAAH84AQCDZwAA9yoAADacAAC3iAAAhmUAAPenAACGXwEAVuoAAJaGAQBmEQEAprMAAB9OAAC/XQAAD6QAAE9AAQCfjAAAbxEBAFNvAAAnmgEAl7cAADacAABHcQAAbmkAAJ+MAABPwwAAnmEAAN6AAAC3iAAAnmEAAIZfAQAfTgAAE1AAACZ1AACWCQEAxzIAAKpfAACDZwAAP5wAAIZfAQBPwwAAB1IAABdzAQDe/QAATpgAAG5pAAA+cQAAWq8AAK+zAAAOcwEAp2EAAO6hAQBH6AEARsMAAM5ZAABuaQAAVw8CADfHAACGZQAAtl0AAGYRAQBW6gAARsMAAI9lAABGwwAAN0QBAL9dAACvNgAA9vkAAP9wAgDsLAAA1iICAOf9AABc1AEA1qsAAKM4AACmswAAztYAAJaMAABW6gAAztYAAEbDAAC+rwAAh5AAAD5xAADO1gAAt4gAAC4+AgCeYQAAp2EAACZ1AAC3iAAAV5IBAD+cAADupwAAPu4AAG5pAAAXcwEAz4QAAN6AAADngAAAdjgBAD8ZAQCbYwAApq0BAA==",
            "dtype": "i4"
           },
           "yaxis": "y"
          }
         ],
         "name": "256"
        },
        {
         "data": [
          {
           "hovertemplate": "Storage=128<br>RAM (GB)=%{x}<br>Price (INR)=%{y}<extra></extra>",
           "legendgroup": "",
           "marker": {
            "color": "#636efa",
            "symbol": "circle"
           },
           "mode": "markers",
           "name": "",
           "orientation": "v",
           "showlegend": false,
           "type": "scatter",
           "x": {
            "bdata": "AAAAAAAAIEAAAAAAAAAQQAAAAAAAABhAAAAAAAAAIEAAAAAAAAAgQAAAAAAAABBAAAAAAAAAIEAAAAAAAAAQQAAAAAAAACBAAAAAAAAAIEAAAAAAAAAgQAAAAAAAACBAAAAAAAAAIEAAAAAAAAAQQAAAAAAAACBAAAAAAAAAGEAAAAAAAAAYQAAAAAAAACBAAAAAAAAAEEAAAAAAAAAgQAAAAAAAABhAAAAAAAAAIEAAAAAAAAAgQAAAAAAAACBAAAAAAAAAEEAAAAAAAAAgQAAAAAAAABhAAAAAAAAAIEAAAAAAAAAgQAAAAAAAACBAAAAAAAAAIEAAAAAAAAAYQAAAAAAAABhAAAAAAAAAIEAAAAAAAAAgQAAAAAAAABhAAAAAAAAAGEAAAAAAAAAgQAAAAAAAABhAAAAAAAAAGEAAAAAAAAAgQAAAAAAAABBAAAAAAAAAIEAAAAAAAAAQQAAAAAAAABhAAAAAAAAAGEAAAAAAAAAgQAAAAAAAACBAAAAAAAAAIEAAAAAAAAAgQAAAAAAAACBAAAAAAAAAIEAAAAAAAAAYQAAAAAAAACBAAAAAAAAAIEAAAAAAAAAgQAAAAAAAACBAAAAAAAAAGEAAAAAAAAAgQAAAAAAAACBAAAAAAAAAGEAAAAAAAAAQQAAAAAAAACBAAAAAAAAAIEAAAAAAAAAgQAAAAAAAABhAAAAAAAAAGEAAAAAAAAAgQAAAAAAAABhAAAAAAAAAEEAAAAAAAAAgQAAAAAAAACBAAAAAAAAAEEAAAAAAAAAQQAAAAAAAABhAAAAAAAAAIEAAAAAAAAAYQAAAAAAAABBAAAAAAAAAEEAAAAAAAAAgQAAAAAAAADhAAAAAAAAAGEAAAAAAAAAgQAAAAAAAACBAAAAAAAAAIEAAAAAAAAAgQAAAAAAAACBAAAAAAAAAIEAAAAAAAAAgQAAAAAAAACBAAAAAAAAAGEAAAAAAAAAgQAAAAAAAACBAAAAAAAAAIEAAAAAAAAAQQAAAAAAAACBAAAAAAAAAGEAAAAAAAAAgQAAAAAAAACBAAAAAAAAAIEAAAAAAAAAQQAAAAAAAACBAAAAAAAAAGEAAAAAAAAAQQAAAAAAAACBAAAAAAAAAIEAAAAAAAAAYQAAAAAAAACBAAAAAAAAAIEAAAAAAAAAYQAAAAAAAACBAAAAAAAAAEEAAAAAAAAAgQAAAAAAAACBAAAAAAAAAGEAAAAAAAAAQQAAAAAAAACBAAAAAAAAAGEAAAAAAAAAgQAAAAAAAABhAAAAAAAAAIEAAAAAAAAAgQAAAAAAAAChAAAAAAABwp0AAAAAAAAAgQAAAAAAAACBAAAAAAAAAIEAAAAAAAAAYQAAAAAAAABhAAAAAAAAAGEAAAAAAAAAgQAAAAAAAACBAAAAAAAAAGEAAAAAAAAAYQAAAAAAAABhAAAAAAAAAEEAAAAAAAAAQQAAAAAAAABhAAAAAAAAAGEAAAAAAAAAgQAAAAAAAABBAAAAAAAAAIEAAAAAAAAAgQAAAAAAAACBAAAAAAAAAGEAAAAAAAAAYQAAAAAAAACBAAAAAAAAAIEAAAAAAAAAgQAAAAAAAACBAAAAAAAAAIEAAAAAAAAAgQAAAAAAAABBAAAAAAAAAIEAAAAAAAAAgQAAAAAAAACBAAAAAAAAAGEAAAAAAAAAYQAAAAAAAABBAAAAAAAAAIEAAAAAAAAAgQAAAAAAAACBAAAAAAAAAGEAAAAAAAAAgQAAAAAAAACBAAAAAAAAAGEAAAAAAAAAYQAAAAAAAABhAAAAAAAAAGEAAAAAAAAAYQAAAAAAAACBAAAAAAAAAGEAAAAAAAAAQQAAAAAAAACBAAAAAAAAAEEAAAAAAAAAYQAAAAAAAACBAAAAAAAAAIEAAAAAAAAAgQAAAAAAAABhAAAAAAAAgnEAAAAAAAAAYQAAAAAAAACBAAAAAAAAAIEAAAAAAAAAgQAAAAAAAACBAAAAAAAAAIEAAAAAAAAAoQAAAAAAAABhAAAAAAAAAIEAAAAAAAAAYQAAAAAAAACBAAAAAAAAAIEAAAAAAAAAgQAAAAAAAABhAAAAAAAAAGEAAAAAAAAAgQAAAAAAAABhAAAAAAAAAIEAAAAAAAAAYQAAAAAAAABBAAAAAAAAAGEAAAAAAAAAYQAAAAAAAACBAAAAAAAAAGEAAAAAAAAAgQAAAAAAAACBAAAAAAAAAIEAAAAAAAAAQQAAAAAAAACBAAAAAAAAAIEAAAAAAAAAgQAAAAAAAAChAAAAAAAAAIEAAAAAAAAAgQAAAAAAAACBAAAAAAAAAGEAAAAAAAAAYQAAAAAAAABhAAAAAAAAAIEAAAAAAAAAYQAAAAAAAACBAAAAAAAAAEEAAAAAAAAAQQAAAAAAAACBAAAAAAAAAGEAAAAAAAAAgQAAAAAAAACBAAAAAAAAAEEAAAAAAAAAYQAAAAAAAACBAAAAAAAAAIEAAAAAAAAAYQAAAAAAAACBAAAAAAAAAGEAAAAAAAAAYQAAAAAAAABBAAAAAAAAAGEAAAAAAAHCnQAAAAAAAABBAAAAAAAAAIEAAAAAAAAAYQAAAAAAAABhAAAAAAAAAIEAAAAAAAAAQQAAAAAAAACBAAAAAAAAAGEAAAAAAAAAYQAAAAAAAABhAAAAAAAAAIEAAAAAAAAAgQAAAAAAAABhAWS1vjGCiOUAAAAAAAAAgQAAAAAAAACBAAAAAAAAAYEAAAAAAAAAQQAAAAAAAACBAAAAAAAAAEEAAAAAAAAAYQAAAAAAAACBAAAAAAAAAIEAAAAAAAAAYQAAAAAAAACBAAAAAAAAAEEAAAAAAAAAgQAAAAAAAABhAAAAAAAAAGEAAAAAAAAAYQAAAAAAAACBAAAAAAAAAGEAAAAAAAAAYQAAAAAAAACBAWS1vjGCiOUAAAAAAAAAYQAAAAAAAABhAAAAAAAAAIEAAAAAAAAAgQAAAAAAAABhAAAAAAAAAIEAAAAAAAAAgQAAAAAAAABBAAAAAAAAAEEAAAAAAAAAYQAAAAAAAACBAAAAAAAAAIEAAAAAAAAAgQAAAAAAAABhAAAAAAAAAIEAAAAAAAAAgQAAAAAAAACBAAAAAAAAAUEAAAAAAAAAYQAAAAAAAACBAWS1vjGCiOUAAAAAAAAAYQAAAAAAAACBAAAAAAAAAIEAAAAAAAAAgQAAAAAAAACBAAAAAAAAAGEAAAAAAAAAYQAAAAAAAACBAAAAAAAAAIEAAAAAAAAAgQAAAAAAAABhAAAAAAAAAIEAAAAAAALSUQAAAAAAAABhAAAAAAAAAEEAAAAAAAAAgQAAAAAAAACBAAAAAAAAAGEAAAAAAAAAQQAAAAAAAACBAAAAAAAAAGEBmZmZmZmYGQAAAAAAAABBAAAAAAAAAIEAAAAAAAAAgQAAAAAAAABBAAAAAAAAAIEAAAAAAAAAgQAAAAAAAACBAAAAAAAAAEEAAAAAAAAAgQAAAAAAAACBAAAAAAAAAIEAAAAAAAAAYQAAAAAAAACBAAAAAAAAAKEAAAAAAAAAgQAAAAAAAACBAAAAAAAAAIEAAAAAAAAAgQAAAAAAAACBAAAAAAAAAIEAAAAAAAAAgQAAAAAAAABBAAAAAAAAAIEAAAAAAAAAYQAAAAAAAACBAAAAAAAAAGEAAAAAAAAAQQAAAAAAAACBAAAAAAAAAGEAAAAAAAAAgQAAAAAAAABhAAAAAAAAAGEAAAAAAAAAgQAAAAAAAABhAAAAAAAAAIEAAAAAAAAAgQAAAAAAAACBAAAAAAAAAIEAAAAAAAAAYQAAAAAAAACBAAAAAAAAAiUAAAAAAAAAYQAAAAAAAABBAAAAAAAAAEEAAAAAAAACJQAAAAAAAABBAAAAAAAAAGEAAAAAAAAAQQAAAAAAAAChAAAAAAAAAEEAAAAAAAAAgQAAAAAAAABBAAAAAAAAAKEAAAAAAAAAQQAAAAAAAABhAAAAAAAAAIEAAAAAAAAAgQAAAAAAAACBAAAAAAAAAIEAAAAAAAAAYQAAAAAAAACBAAAAAAAAAEEAAAAAAAAAgQAAAAAAAACBAAAAAAAAAIEAAAAAAAAAYQAAAAAAAACBAAAAAAAAAIEAAAAAAAAAgQAAAAAAAAChAAAAAAAAAIEAAAAAAAAAYQAAAAAAAACBAAAAAAAAAGEAAAAAAAAAgQAAAAAAAAEhAAAAAAAAAIEAAAAAAAAAgQFktb4xgojlAAAAAAAAAIEAAAAAAAAAgQAAAAAAAACBAAAAAAAAAIEAAAAAAAAAYQAAAAAAAACBAAAAAAAAAGEAAAAAAAAAgQAAAAAAAABhAAAAAAAAAIEAAAAAAAAAgQAAAAAAAABhAAAAAAAAAIEAAAAAAAAAgQAAAAAAAABhAAAAAAAAAIEAAAAAAAAAgQAAAAAAAACBAAAAAAAAAGEAAAAAAAAAgQAAAAAAAACBAAAAAAAAAiUAAAAAAAAAYQAAAAAAAABhAAAAAAAAAGEAAAAAAAAAYQAAAAAAAACBAAAAAAAAAUEAAAAAAAAAgQAAAAAAAACBAAAAAAAAAKEAAAAAAAAAYQAAAAAAAACBAAAAAAAAAEEAAAAAAAAAYQAAAAAAAACBAAAAAAACwnUAAAAAAAAAgQAAAAAAAACBAAAAAAAAAOEAAAAAAAECPQAAAAAAAABhAAAAAAAAAGEAAAAAAAAAQQAAAAAAAABhAAAAAAAAAEEAAAAAAAAAQQAAAAAAAACBAAAAAAAAAIEAAAAAAAABAQAAAAAAAAEBAAAAAAAAAQEAAAAAAAAAQQAAAAAAAABBAAAAAAAAAIEAAAAAAAAAgQAAAAAAAACBAAAAAAAAAIEAAAAAAAAAYQAAAAAAAABBAAAAAAAAAIEAAAAAAAAAYQAAAAAAAACBAAAAAAAAAEEAAAAAAAAAYQAAAAAAAABBAAAAAAAAAEEAAAAAAAAAQQAAAAAAAABhAAAAAAAAAIEAAAAAAAAAgQAAAAAAAACBAAAAAAAAAIEAAAAAAAAAgQAAAAAAAACBAWS1vjGCiOUAAAAAAAAAYQAAAAAAAABhAAAAAAAAAIEAAAAAAAAAgQAAAAAAAACBAAAAAAAAAEEAAAAAAAAAYQAAAAAAAABBAAAAAAAAAGEAAAAAAAAAgQAAAAAAAACBAAAAAAAAAEEAAAAAAAAAYQAAAAAAAACBAAAAAAAAAIEAAAAAAAAAYQAAAAAAAACBAAAAAAAAAIEAAAAAAAAAYQAAAAAAAACBAAAAAAAAAIEAAAAAAAAAgQAAAAAAAACBAAAAAAAAAIEAAAAAAAAAQQAAAAAAAABhAAAAAAAAAIEAAAAAAAAAYQAAAAAAAABhAAAAAAAAAIEAAAAAAAAAgQAAAAAAAACBAAAAAAAAAIEA=",
            "dtype": "f8"
           },
           "xaxis": "x",
           "y": {
            "bdata": "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",
            "dtype": "i4"
           },
           "yaxis": "y"
          }
         ],
         "name": "128"
        },
        {
         "data": [
          {
           "hovertemplate": "Storage=512<br>RAM (GB)=%{x}<br>Price (INR)=%{y}<extra></extra>",
           "legendgroup": "",
           "marker": {
            "color": "#636efa",
            "symbol": "circle"
           },
           "mode": "markers",
           "name": "",
           "orientation": "v",
           "showlegend": false,
           "type": "scatter",
           "x": {
            "bdata": "AAAAAAAAKEAAAAAAAAAwQAAAAAAAADBAAAAAAAAAMEAAAAAAAAAoQAAAAAAAADBAAAAAAAAAKEAAAAAAAAAgQAAAAAAAAChAAAAAAAAAMkAAAAAAAAAoQAAAAAAAAChAAAAAAAAAKEAAAAAAAAAoQAAAAAAAAChAAAAAAAAAIEAAAAAAAAAwQAAAAAAAAChAAAAAAAAAKEAAAAAAAAAoQAAAAAAAAChAAAAAAAAAEEAAAAAAAAAYQAAAAAAAABhAAAAAAAAAKEAAAAAAAAAoQAAAAAAAADBAAAAAAAAAKEAAAAAAAAAoQAAAAAAAAChAAAAAAAAAKEAAAAAAAAAoQAAAAAAAAChAAAAAAAAAIEAAAAAAAAAoQAAAAAAAAChAAAAAAAAAMkAAAAAAAAAwQAAAAAAAADJA",
            "dtype": "f8"
           },
           "xaxis": "x",
           "y": {
            "bdata": "n4wAAI/iAAAjFwIAbxEBABbFAQBMrQEAz4QAAKdhAAAPpAAADnMBAFcPAgCnYQAAHh0BAK6IAACuiAAABLMCAK6CAQAuwQEAF3MBADYNAwD2cAIAtwUBAGe5AQBXkgEAttQBAD+WAQD3JAEAjjQBAM5HAwBGRgAA3oAAAH6QAACHhAIAF3MBAM7QAQD3JAEAj18BAG8FAwB/OAEA",
            "dtype": "i4"
           },
           "yaxis": "y"
          }
         ],
         "name": "512"
        },
        {
         "data": [
          {
           "hovertemplate": "Storage=64<br>RAM (GB)=%{x}<br>Price (INR)=%{y}<extra></extra>",
           "legendgroup": "",
           "marker": {
            "color": "#636efa",
            "symbol": "circle"
           },
           "mode": "markers",
           "name": "",
           "orientation": "v",
           "showlegend": false,
           "type": "scatter",
           "x": {
            "bdata": "AAAAAAAAEEAAAAAAAAAQQAAAAAAAABBAAAAAAAAAEEAAAAAAAAAIQAAAAAAAABBAAAAAAAAAEEAAAAAAAAAQQAAAAAAAABBAAAAAAAAACEAAAAAAAAAQQAAAAAAAABBAAAAAAAAAGEAAAAAAAAAQQAAAAAAAABBAAAAAAAAACEAAAAAAAAAQQAAAAAAAABBAAAAAAAAAEEAAAAAAAAAQQAAAAAAAABBAAAAAAAAAUEAAAAAAAAAQQAAAAAAAABBAAAAAAAAAEEAAAAAAAAAQQAAAAAAAABhAAAAAAAAAEEAAAAAAAAAAQAAAAAAAABBAAAAAAAAAEEAAAAAAAAAQQAAAAAAAABhAAAAAAAAAEEAAAAAAAAAQQAAAAAAAAABAAAAAAAAAEEAAAAAAAAAQQAAAAAAAABBAAAAAAAAAEEAAAAAAAAAYQAAAAAAAABBAAAAAAAAAEEAAAAAAAAAAQAAAAAAAABBAAAAAAAAAEEAAAAAAAAAQQAAAAAAAABBAAAAAAAAAEEAAAAAAAAAQQAAAAAAAABBAAAAAAAAAEEAAAAAAAAAYQAAAAAAAABBAAAAAAAAAEEAAAAAAAAAQQAAAAAAAABBAAAAAAAAACEAAAAAAAAAQQAAAAAAAABBAAAAAAAAAEEAAAAAAAAAQQAAAAAAAABBAAAAAAAAAEEAAAAAAAAAQQAAAAAAAABBAAAAAAAAAEEAAAAAAAAAQQAAAAAAAABBAAAAAAAAAEEAAAAAAAAAQQAAAAAAAABBAAAAAAAAAEEAAAAAAAAAQQAAAAAAAAAhAAAAAAAAAEEAAAAAAAAAQQAAAAAAAABBAAAAAAAAAGEAAAAAAAAAQQAAAAAAAABBAAAAAAAAAEEAAAAAAAAAQQAAAAAAAAAhAAAAAAAAAEEAAAAAAAAAQQAAAAAAAABBAAAAAAAAAEEAAAAAAAAAYQAAAAAAAABBAAAAAAAAAEEAAAAAAAAAYQAAAAAAAABhAAAAAAAAAEEAAAAAAAAAQQAAAAAAAABBAAAAAAAAAEEAAAAAAAAAAQAAAAAAAABBAAAAAAAAAGEAAAAAAAAAQQAAAAAAAAAhAAAAAAAAAAEAAAAAAAAAQQAAAAAAAABBAAAAAAAAAGEAAAAAAAAAQQAAAAAAAABhAAAAAAAAAEEAAAAAAAAAQQAAAAAAAABBAAAAAAAAAEEAAAAAAAAAQQAAAAAAAABBA",
            "dtype": "f8"
           },
           "xaxis": "x",
           "y": {
            "bdata": "9yoAAGMZAABjGQAA0jcAAJsYAABXGwAAphYAACcjAAD3pwAAKxoAAE/DAADIJgAA3y4AAD8fAAB8qwAAJnUAAIweAABjGQAABicAAA8nAACPGgAARsMAAPcqAAAPJwAAAykAAA8nAAAeIwAAVxsAAHsVAADaIQAA9yoAAFwiAAAGJQAAozgAAP8YAACTEQAA7SYAAI46AAATHgAA7ioAAH8lAAAzIQAABCcAAG8XAAASJQAA/xgAAPcqAABjGQAADycAAK82AAC7GwAA7CwAAH8+AAAPJwAAPRwAAPcqAABPLQAA3JsAAL4yAABKHQAApjYAAJsYAADZHgAAACMAAHY+AABXGwAA+yEAAMcyAADkKgAAlzoAAFwwAACmswAAMyEAACwfAAAzIQAASS4AAA8nAADfLgAADnkAAAYnAACvNgAAxzIAAEsdAABLHQAA1i4AAPcqAAD3KgAADycAAK82AAAPJwAAXkIAAEZGAACXOgAABicAAEytAQBGRgAAxzIAAG8XAABLHQAARkYAAMcZAABjGQAA9hgAAB4jAAA/HwAAH04AAPcqAADKMAAA3y4AABcuAAB6NQAA9SIAADcxAABmMAAA",
            "dtype": "i4"
           },
           "yaxis": "y"
          }
         ],
         "name": "64"
        },
        {
         "data": [
          {
           "hovertemplate": "Storage=32<br>RAM (GB)=%{x}<br>Price (INR)=%{y}<extra></extra>",
           "legendgroup": "",
           "marker": {
            "color": "#636efa",
            "symbol": "circle"
           },
           "mode": "markers",
           "name": "",
           "orientation": "v",
           "showlegend": false,
           "type": "scatter",
           "x": {
            "bdata": "AAAAAAAAEEAAAAAAAAAIQAAAAAAAABBAAAAAAAAAAEAAAAAAAAAAQAAAAAAAABBAAAAAAAAACEAAAAAAAAAIQAAAAAAAAAhAAAAAAAAACEAAAAAAAAAAQAAAAAAAAABAAAAAAAAACEAAAAAAAAAAQAAAAAAAAAhAAAAAAAAAAEAAAAAAAAAIQAAAAAAAAAhA",
            "dtype": "f8"
           },
           "xaxis": "x",
           "y": {
            "bdata": "BierDS4YpxZOG3sV5xz6KO4qDye/EjkgzyDHGU4bVxvQHgYn",
            "dtype": "i2"
           },
           "yaxis": "y"
          }
         ],
         "name": "32"
        },
        {
         "data": [
          {
           "hovertemplate": "Storage=4<br>RAM (GB)=%{x}<br>Price (INR)=%{y}<extra></extra>",
           "legendgroup": "",
           "marker": {
            "color": "#636efa",
            "symbol": "circle"
           },
           "mode": "markers",
           "name": "",
           "orientation": "v",
           "showlegend": false,
           "type": "scatter",
           "x": {
            "bdata": "AAAAAAAAgEAAAAAAAACAQAAAAAAAAIBAAAAAAAAAgEAAAAAAAACAQAAAAAAAAIBAAAAAAAAA8D8=",
            "dtype": "f8"
           },
           "xaxis": "x",
           "y": {
            "bdata": "BQXnAzcY8xquC7cLeAM=",
            "dtype": "i2"
           },
           "yaxis": "y"
          }
         ],
         "name": "4"
        },
        {
         "data": [
          {
           "hovertemplate": "Storage=16<br>RAM (GB)=%{x}<br>Price (INR)=%{y}<extra></extra>",
           "legendgroup": "",
           "marker": {
            "color": "#636efa",
            "symbol": "circle"
           },
           "mode": "markers",
           "name": "",
           "orientation": "v",
           "showlegend": false,
           "type": "scatter",
           "x": {
            "bdata": "AAAAAAAAAEAAAAAAAADwPwAAAAAAAABAAAAAAAAA8D8AAAAAAAAAQAAAAAAAAABAAAAAAAAAAEAAAAAAAADwPwAAAAAAAPA/",
            "dtype": "f8"
           },
           "xaxis": "x",
           "y": {
            "bdata": "HAxyFT8fWhnjDMMJ4wxmF0sd",
            "dtype": "i2"
           },
           "yaxis": "y"
          }
         ],
         "name": "16"
        }
       ],
       "layout": {
        "height": 500,
        "legend": {
         "tracegroupgap": 0
        },
        "sliders": [
         {
          "active": 0,
          "currentvalue": {
           "prefix": "Storage="
          },
          "len": 0.9,
          "pad": {
           "b": 10,
           "t": 60
          },
          "steps": [
           {
            "args": [
             [
              "256"
             ],
             {
              "frame": {
               "duration": 0,
               "redraw": false
              },
              "fromcurrent": true,
              "mode": "immediate",
              "transition": {
               "duration": 0,
               "easing": "linear"
              }
             }
            ],
            "label": "256",
            "method": "animate"
           },
           {
            "args": [
             [
              "128"
             ],
             {
              "frame": {
               "duration": 0,
               "redraw": false
              },
              "fromcurrent": true,
              "mode": "immediate",
              "transition": {
               "duration": 0,
               "easing": "linear"
              }
             }
            ],
            "label": "128",
            "method": "animate"
           },
           {
            "args": [
             [
              "512"
             ],
             {
              "frame": {
               "duration": 0,
               "redraw": false
              },
              "fromcurrent": true,
              "mode": "immediate",
              "transition": {
               "duration": 0,
               "easing": "linear"
              }
             }
            ],
            "label": "512",
            "method": "animate"
           },
           {
            "args": [
             [
              "64"
             ],
             {
              "frame": {
               "duration": 0,
               "redraw": false
              },
              "fromcurrent": true,
              "mode": "immediate",
              "transition": {
               "duration": 0,
               "easing": "linear"
              }
             }
            ],
            "label": "64",
            "method": "animate"
           },
           {
            "args": [
             [
              "32"
             ],
             {
              "frame": {
               "duration": 0,
               "redraw": false
              },
              "fromcurrent": true,
              "mode": "immediate",
              "transition": {
               "duration": 0,
               "easing": "linear"
              }
             }
            ],
            "label": "32",
            "method": "animate"
           },
           {
            "args": [
             [
              "4"
             ],
             {
              "frame": {
               "duration": 0,
               "redraw": false
              },
              "fromcurrent": true,
              "mode": "immediate",
              "transition": {
               "duration": 0,
               "easing": "linear"
              }
             }
            ],
            "label": "4",
            "method": "animate"
           },
           {
            "args": [
             [
              "16"
             ],
             {
              "frame": {
               "duration": 0,
               "redraw": false
              },
              "fromcurrent": true,
              "mode": "immediate",
              "transition": {
               "duration": 0,
               "easing": "linear"
              }
             }
            ],
            "label": "16",
            "method": "animate"
           }
          ],
          "x": 0.1,
          "xanchor": "left",
          "y": 0,
          "yanchor": "top"
         }
        ],
        "template": {
         "data": {
          "bar": [
           {
            "error_x": {
             "color": "#2a3f5f"
            },
            "error_y": {
             "color": "#2a3f5f"
            },
            "marker": {
             "line": {
              "color": "#E5ECF6",
              "width": 0.5
             },
             "pattern": {
              "fillmode": "overlay",
              "size": 10,
              "solidity": 0.2
             }
            },
            "type": "bar"
           }
          ],
          "barpolar": [
           {
            "marker": {
             "line": {
              "color": "#E5ECF6",
              "width": 0.5
             },
             "pattern": {
              "fillmode": "overlay",
              "size": 10,
              "solidity": 0.2
             }
            },
            "type": "barpolar"
           }
          ],
          "carpet": [
           {
            "aaxis": {
             "endlinecolor": "#2a3f5f",
             "gridcolor": "white",
             "linecolor": "white",
             "minorgridcolor": "white",
             "startlinecolor": "#2a3f5f"
            },
            "baxis": {
             "endlinecolor": "#2a3f5f",
             "gridcolor": "white",
             "linecolor": "white",
             "minorgridcolor": "white",
             "startlinecolor": "#2a3f5f"
            },
            "type": "carpet"
           }
          ],
          "choropleth": [
           {
            "colorbar": {
             "outlinewidth": 0,
             "ticks": ""
            },
            "type": "choropleth"
           }
          ],
          "contour": [
           {
            "colorbar": {
             "outlinewidth": 0,
             "ticks": ""
            },
            "colorscale": [
             [
              0,
              "#0d0887"
             ],
             [
              0.1111111111111111,
              "#46039f"
             ],
             [
              0.2222222222222222,
              "#7201a8"
             ],
             [
              0.3333333333333333,
              "#9c179e"
             ],
             [
              0.4444444444444444,
              "#bd3786"
             ],
             [
              0.5555555555555556,
              "#d8576b"
             ],
             [
              0.6666666666666666,
              "#ed7953"
             ],
             [
              0.7777777777777778,
              "#fb9f3a"
             ],
             [
              0.8888888888888888,
              "#fdca26"
             ],
             [
              1,
              "#f0f921"
             ]
            ],
            "type": "contour"
           }
          ],
          "contourcarpet": [
           {
            "colorbar": {
             "outlinewidth": 0,
             "ticks": ""
            },
            "type": "contourcarpet"
           }
          ],
          "heatmap": [
           {
            "colorbar": {
             "outlinewidth": 0,
             "ticks": ""
            },
            "colorscale": [
             [
              0,
              "#0d0887"
             ],
             [
              0.1111111111111111,
              "#46039f"
             ],
             [
              0.2222222222222222,
              "#7201a8"
             ],
             [
              0.3333333333333333,
              "#9c179e"
             ],
             [
              0.4444444444444444,
              "#bd3786"
             ],
             [
              0.5555555555555556,
              "#d8576b"
             ],
             [
              0.6666666666666666,
              "#ed7953"
             ],
             [
              0.7777777777777778,
              "#fb9f3a"
             ],
             [
              0.8888888888888888,
              "#fdca26"
             ],
             [
              1,
              "#f0f921"
             ]
            ],
            "type": "heatmap"
           }
          ],
          "histogram": [
           {
            "marker": {
             "pattern": {
              "fillmode": "overlay",
              "size": 10,
              "solidity": 0.2
             }
            },
            "type": "histogram"
           }
          ],
          "histogram2d": [
           {
            "colorbar": {
             "outlinewidth": 0,
             "ticks": ""
            },
            "colorscale": [
             [
              0,
              "#0d0887"
             ],
             [
              0.1111111111111111,
              "#46039f"
             ],
             [
              0.2222222222222222,
              "#7201a8"
             ],
             [
              0.3333333333333333,
              "#9c179e"
             ],
             [
              0.4444444444444444,
              "#bd3786"
             ],
             [
              0.5555555555555556,
              "#d8576b"
             ],
             [
              0.6666666666666666,
              "#ed7953"
             ],
             [
              0.7777777777777778,
              "#fb9f3a"
             ],
             [
              0.8888888888888888,
              "#fdca26"
             ],
             [
              1,
              "#f0f921"
             ]
            ],
            "type": "histogram2d"
           }
          ],
          "histogram2dcontour": [
           {
            "colorbar": {
             "outlinewidth": 0,
             "ticks": ""
            },
            "colorscale": [
             [
              0,
              "#0d0887"
             ],
             [
              0.1111111111111111,
              "#46039f"
             ],
             [
              0.2222222222222222,
              "#7201a8"
             ],
             [
              0.3333333333333333,
              "#9c179e"
             ],
             [
              0.4444444444444444,
              "#bd3786"
             ],
             [
              0.5555555555555556,
              "#d8576b"
             ],
             [
              0.6666666666666666,
              "#ed7953"
             ],
             [
              0.7777777777777778,
              "#fb9f3a"
             ],
             [
              0.8888888888888888,
              "#fdca26"
             ],
             [
              1,
              "#f0f921"
             ]
            ],
            "type": "histogram2dcontour"
           }
          ],
          "mesh3d": [
           {
            "colorbar": {
             "outlinewidth": 0,
             "ticks": ""
            },
            "type": "mesh3d"
           }
          ],
          "parcoords": [
           {
            "line": {
             "colorbar": {
              "outlinewidth": 0,
              "ticks": ""
             }
            },
            "type": "parcoords"
           }
          ],
          "pie": [
           {
            "automargin": true,
            "type": "pie"
           }
          ],
          "scatter": [
           {
            "fillpattern": {
             "fillmode": "overlay",
             "size": 10,
             "solidity": 0.2
            },
            "type": "scatter"
           }
          ],
          "scatter3d": [
           {
            "line": {
             "colorbar": {
              "outlinewidth": 0,
              "ticks": ""
             }
            },
            "marker": {
             "colorbar": {
              "outlinewidth": 0,
              "ticks": ""
             }
            },
            "type": "scatter3d"
           }
          ],
          "scattercarpet": [
           {
            "marker": {
             "colorbar": {
              "outlinewidth": 0,
              "ticks": ""
             }
            },
            "type": "scattercarpet"
           }
          ],
          "scattergeo": [
           {
            "marker": {
             "colorbar": {
              "outlinewidth": 0,
              "ticks": ""
             }
            },
            "type": "scattergeo"
           }
          ],
          "scattergl": [
           {
            "marker": {
             "colorbar": {
              "outlinewidth": 0,
              "ticks": ""
             }
            },
            "type": "scattergl"
           }
          ],
          "scattermap": [
           {
            "marker": {
             "colorbar": {
              "outlinewidth": 0,
              "ticks": ""
             }
            },
            "type": "scattermap"
           }
          ],
          "scattermapbox": [
           {
            "marker": {
             "colorbar": {
              "outlinewidth": 0,
              "ticks": ""
             }
            },
            "type": "scattermapbox"
           }
          ],
          "scatterpolar": [
           {
            "marker": {
             "colorbar": {
              "outlinewidth": 0,
              "ticks": ""
             }
            },
            "type": "scatterpolar"
           }
          ],
          "scatterpolargl": [
           {
            "marker": {
             "colorbar": {
              "outlinewidth": 0,
              "ticks": ""
             }
            },
            "type": "scatterpolargl"
           }
          ],
          "scatterternary": [
           {
            "marker": {
             "colorbar": {
              "outlinewidth": 0,
              "ticks": ""
             }
            },
            "type": "scatterternary"
           }
          ],
          "surface": [
           {
            "colorbar": {
             "outlinewidth": 0,
             "ticks": ""
            },
            "colorscale": [
             [
              0,
              "#0d0887"
             ],
             [
              0.1111111111111111,
              "#46039f"
             ],
             [
              0.2222222222222222,
              "#7201a8"
             ],
             [
              0.3333333333333333,
              "#9c179e"
             ],
             [
              0.4444444444444444,
              "#bd3786"
             ],
             [
              0.5555555555555556,
              "#d8576b"
             ],
             [
              0.6666666666666666,
              "#ed7953"
             ],
             [
              0.7777777777777778,
              "#fb9f3a"
             ],
             [
              0.8888888888888888,
              "#fdca26"
             ],
             [
              1,
              "#f0f921"
             ]
            ],
            "type": "surface"
           }
          ],
          "table": [
           {
            "cells": {
             "fill": {
              "color": "#EBF0F8"
             },
             "line": {
              "color": "white"
             }
            },
            "header": {
             "fill": {
              "color": "#C8D4E3"
             },
             "line": {
              "color": "white"
             }
            },
            "type": "table"
           }
          ]
         },
         "layout": {
          "annotationdefaults": {
           "arrowcolor": "#2a3f5f",
           "arrowhead": 0,
           "arrowwidth": 1
          },
          "autotypenumbers": "strict",
          "coloraxis": {
           "colorbar": {
            "outlinewidth": 0,
            "ticks": ""
           }
          },
          "colorscale": {
           "diverging": [
            [
             0,
             "#8e0152"
            ],
            [
             0.1,
             "#c51b7d"
            ],
            [
             0.2,
             "#de77ae"
            ],
            [
             0.3,
             "#f1b6da"
            ],
            [
             0.4,
             "#fde0ef"
            ],
            [
             0.5,
             "#f7f7f7"
            ],
            [
             0.6,
             "#e6f5d0"
            ],
            [
             0.7,
             "#b8e186"
            ],
            [
             0.8,
             "#7fbc41"
            ],
            [
             0.9,
             "#4d9221"
            ],
            [
             1,
             "#276419"
            ]
           ],
           "sequential": [
            [
             0,
             "#0d0887"
            ],
            [
             0.1111111111111111,
             "#46039f"
            ],
            [
             0.2222222222222222,
             "#7201a8"
            ],
            [
             0.3333333333333333,
             "#9c179e"
            ],
            [
             0.4444444444444444,
             "#bd3786"
            ],
            [
             0.5555555555555556,
             "#d8576b"
            ],
            [
             0.6666666666666666,
             "#ed7953"
            ],
            [
             0.7777777777777778,
             "#fb9f3a"
            ],
            [
             0.8888888888888888,
             "#fdca26"
            ],
            [
             1,
             "#f0f921"
            ]
           ],
           "sequentialminus": [
            [
             0,
             "#0d0887"
            ],
            [
             0.1111111111111111,
             "#46039f"
            ],
            [
             0.2222222222222222,
             "#7201a8"
            ],
            [
             0.3333333333333333,
             "#9c179e"
            ],
            [
             0.4444444444444444,
             "#bd3786"
            ],
            [
             0.5555555555555556,
             "#d8576b"
            ],
            [
             0.6666666666666666,
             "#ed7953"
            ],
            [
             0.7777777777777778,
             "#fb9f3a"
            ],
            [
             0.8888888888888888,
             "#fdca26"
            ],
            [
             1,
             "#f0f921"
            ]
           ]
          },
          "colorway": [
           "#636efa",
           "#EF553B",
           "#00cc96",
           "#ab63fa",
           "#FFA15A",
           "#19d3f3",
           "#FF6692",
           "#B6E880",
           "#FF97FF",
           "#FECB52"
          ],
          "font": {
           "color": "#2a3f5f"
          },
          "geo": {
           "bgcolor": "white",
           "lakecolor": "white",
           "landcolor": "#E5ECF6",
           "showlakes": true,
           "showland": true,
           "subunitcolor": "white"
          },
          "hoverlabel": {
           "align": "left"
          },
          "hovermode": "closest",
          "mapbox": {
           "style": "light"
          },
          "paper_bgcolor": "white",
          "plot_bgcolor": "#E5ECF6",
          "polar": {
           "angularaxis": {
            "gridcolor": "white",
            "linecolor": "white",
            "ticks": ""
           },
           "bgcolor": "#E5ECF6",
           "radialaxis": {
            "gridcolor": "white",
            "linecolor": "white",
            "ticks": ""
           }
          },
          "scene": {
           "xaxis": {
            "backgroundcolor": "#E5ECF6",
            "gridcolor": "white",
            "gridwidth": 2,
            "linecolor": "white",
            "showbackground": true,
            "ticks": "",
            "zerolinecolor": "white"
           },
           "yaxis": {
            "backgroundcolor": "#E5ECF6",
            "gridcolor": "white",
            "gridwidth": 2,
            "linecolor": "white",
            "showbackground": true,
            "ticks": "",
            "zerolinecolor": "white"
           },
           "zaxis": {
            "backgroundcolor": "#E5ECF6",
            "gridcolor": "white",
            "gridwidth": 2,
            "linecolor": "white",
            "showbackground": true,
            "ticks": "",
            "zerolinecolor": "white"
           }
          },
          "shapedefaults": {
           "line": {
            "color": "#2a3f5f"
           }
          },
          "ternary": {
           "aaxis": {
            "gridcolor": "white",
            "linecolor": "white",
            "ticks": ""
           },
           "baxis": {
            "gridcolor": "white",
            "linecolor": "white",
            "ticks": ""
           },
           "bgcolor": "#E5ECF6",
           "caxis": {
            "gridcolor": "white",
            "linecolor": "white",
            "ticks": ""
           }
          },
          "title": {
           "x": 0.05
          },
          "xaxis": {
           "automargin": true,
           "gridcolor": "white",
           "linecolor": "white",
           "ticks": "",
           "title": {
            "standoff": 15
           },
           "zerolinecolor": "white",
           "zerolinewidth": 2
          },
          "yaxis": {
           "automargin": true,
           "gridcolor": "white",
           "linecolor": "white",
           "ticks": "",
           "title": {
            "standoff": 15
           },
           "zerolinecolor": "white",
           "zerolinewidth": 2
          }
         }
        },
        "title": {
         "text": "RAM vs Price Animated by ROM"
        },
        "updatemenus": [
         {
          "buttons": [
           {
            "args": [
             null,
             {
              "frame": {
               "duration": 500,
               "redraw": false
              },
              "fromcurrent": true,
              "mode": "immediate",
              "transition": {
               "duration": 500,
               "easing": "linear"
              }
             }
            ],
            "label": "&#9654;",
            "method": "animate"
           },
           {
            "args": [
             [
              null
             ],
             {
              "frame": {
               "duration": 0,
               "redraw": false
              },
              "fromcurrent": true,
              "mode": "immediate",
              "transition": {
               "duration": 0,
               "easing": "linear"
              }
             }
            ],
            "label": "&#9724;",
            "method": "animate"
           }
          ],
          "direction": "left",
          "pad": {
           "r": 10,
           "t": 70
          },
          "showactive": false,
          "type": "buttons",
          "x": 0.1,
          "xanchor": "right",
          "y": 0,
          "yanchor": "top"
         }
        ],
        "width": 800,
        "xaxis": {
         "anchor": "y",
         "domain": [
          0,
          1
         ],
         "title": {
          "text": "RAM (GB)"
         }
        },
        "yaxis": {
         "anchor": "x",
         "domain": [
          0,
          1
         ],
         "title": {
          "text": "Price (INR)"
         }
        }
       }
      }
     },
     "metadata": {},
     "output_type": "display_data"
    }
   ],
   "source": [
    "fig = px.scatter(\n",
    "    df,\n",
    "    x='RAM',\n",
    "    y='price',\n",
    "    animation_frame='ROM',\n",
    "    title='RAM vs Price Animated by ROM',\n",
    "    labels={'RAM': 'RAM (GB)', 'price': 'Price (INR)', 'ROM': 'Storage'}\n",
    ")\n",
    "\n",
    "fig.update_layout(width=800, height=500)\n",
    "fig.show()"
   ]
  },
  {
   "cell_type": "code",
   "execution_count": 71,
   "id": "6a4edcc9",
   "metadata": {},
   "outputs": [
    {
     "data": {
      "image/png": "[encoded data removed]",
      "text/plain": [
       "<Figure size 640x480 with 2 Axes>"
      ]
     },
     "metadata": {},
     "output_type": "display_data"
    }
   ],
   "source": [
    "sns.heatmap(df.select_dtypes(include='number').corr(),annot=True, cmap='coolwarm')\n",
    "plt.show()"
   ]
  },
  {
   "cell_type": "code",
   "execution_count": null,
   "id": "af8333ae",
   "metadata": {},
   "outputs": [],
   "source": []
  }
 ],
 "metadata": {
  "kernelspec": {
   "display_name": "Python 3",
   "language": "python",
   "name": "python3"
  },
  "language_info": {
   "codemirror_mode": {
    "name": "ipython",
    "version": 3
   },
   "file_extension": ".py",
   "mimetype": "text/x-python",
   "name": "python",
   "nbconvert_exporter": "python",
   "pygments_lexer": "ipython3",
   "version": "3.12.4"
  }
 },
 "nbformat": 4,
 "nbformat_minor": 5
}
